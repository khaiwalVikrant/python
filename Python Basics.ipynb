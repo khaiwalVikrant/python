{
 "cells": [
  {
   "cell_type": "code",
   "execution_count": 122,
   "id": "65097cb9-b1d7-4369-ae4e-01775207c391",
   "metadata": {},
   "outputs": [
    {
     "name": "stdin",
     "output_type": "stream",
     "text": [
      "Type all numbers with spaces:  1\n"
     ]
    },
    {
     "name": "stdout",
     "output_type": "stream",
     "text": [
      "All typed numbers:  [1]\n"
     ]
    }
   ],
   "source": [
    "numbers = input(\"Type all numbers with spaces: \").split() # take input as list\n",
    "numbers = [int(num) for num in numbers]\n",
    "print(\"All typed numbers: \", numbers)"
   ]
  },
  {
   "cell_type": "code",
   "execution_count": 123,
   "id": "d3de6c9f-4ef9-4bc8-a064-11840e5654db",
   "metadata": {},
   "outputs": [
    {
     "name": "stdin",
     "output_type": "stream",
     "text": [
      "Enter 2 numbers with space separated 1 2\n"
     ]
    },
    {
     "data": {
      "text/plain": [
       "(1, 2)"
      ]
     },
     "execution_count": 123,
     "metadata": {},
     "output_type": "execute_result"
    }
   ],
   "source": [
    "# Take input as map\n",
    "n1, n2 = map(int, input(\"Enter 2 numbers with space separated\").split())\n",
    "n1, n2"
   ]
  },
  {
   "cell_type": "code",
   "execution_count": 124,
   "id": "a6737a8a-9cdb-46c3-8572-6874c7512528",
   "metadata": {},
   "outputs": [
    {
     "name": "stdout",
     "output_type": "stream",
     "text": [
      "Addition:  13\n",
      "Subtraction  7\n",
      "Multiplication  30\n",
      "Division  3.3333333333333335\n",
      "Modulus  1\n",
      "Exponentiation  1000\n",
      "Floor division  3\n"
     ]
    }
   ],
   "source": [
    "# Arithmatic operations\n",
    "a = 10\n",
    "b = 3\n",
    "print(\"Addition: \", a+b)\n",
    "print(\"Subtraction \", a-b)\n",
    "print(\"Multiplication \", a*b)\n",
    "print(\"Division \", a/b)\n",
    "print(\"Modulus \", a%b)\n",
    "print(\"Exponentiation \", a**b)\n",
    "print(\"Floor division \", a//b)"
   ]
  },
  {
   "cell_type": "code",
   "execution_count": 125,
   "id": "cced9d4c-54b4-4b1d-a9d7-395b9b43da03",
   "metadata": {},
   "outputs": [
    {
     "name": "stdout",
     "output_type": "stream",
     "text": [
      "L:  ['H', 'e', 'l', 'l', 'o', ' ', 'W', 'o', 'r', 'l', 'd']\n",
      "<class 'list'>\n"
     ]
    }
   ],
   "source": [
    "s = \"Hello World\"\n",
    "l = list(s)\n",
    "print(\"L: \", l)\n",
    "print(type(l))"
   ]
  },
  {
   "cell_type": "code",
   "execution_count": 126,
   "id": "0822d33a-e963-4a21-b4ac-fcab80d8a9bb",
   "metadata": {},
   "outputs": [
    {
     "name": "stdout",
     "output_type": "stream",
     "text": [
      "[1, 2, 3]\n"
     ]
    }
   ],
   "source": [
    "#Parse tuple to list\n",
    "t = (1, 2, 3)\n",
    "l = list(t)\n",
    "print(l)"
   ]
  },
  {
   "cell_type": "code",
   "execution_count": 127,
   "id": "a6887b0d-bd41-4c0f-b32b-6b95c3ac647d",
   "metadata": {},
   "outputs": [
    {
     "name": "stdout",
     "output_type": "stream",
     "text": [
      "Dictionary:  {1: 1, 2: 1}\n"
     ]
    }
   ],
   "source": [
    "# Parse list of tuples to Dict\n",
    "l = [(1,1), (2,1)]\n",
    "d = dict(l)\n",
    "print(\"Dictionary: \", d)"
   ]
  },
  {
   "cell_type": "markdown",
   "id": "ce604d8a-8fa7-4c9f-a2a0-b526fabe7670",
   "metadata": {},
   "source": [
    "##### Slicing there are 3 types of indexes we can use in slice\n",
    "##### 1. Start Index: element of this index is included in the slice\n",
    "##### 2. End Index: element at this index is not included in the slice\n",
    "##### 3. Step: It's an optional and default value is 1"
   ]
  },
  {
   "cell_type": "code",
   "execution_count": 128,
   "id": "8868c536-8fe5-4f1f-a87b-3ae4c2def1ee",
   "metadata": {},
   "outputs": [
    {
     "name": "stdout",
     "output_type": "stream",
     "text": [
      "ice\n"
     ]
    },
    {
     "data": {
      "text/plain": [
       "[2, 3, 4]"
      ]
     },
     "execution_count": 128,
     "metadata": {},
     "output_type": "execute_result"
    }
   ],
   "source": [
    "string = \"sliceit\" # e.g., indexes of this string like this [0,1,2,3,4,5,6]\n",
    "print(string[2:5]) # include index 2 element which is 'i' and 5 is end index and element of this index 'i' but in won't come in output\n",
    "\n",
    "l = [0,1,2,3,4,5,6,7]\n",
    "l[2:5]"
   ]
  },
  {
   "cell_type": "code",
   "execution_count": 129,
   "id": "4c183819-34b2-4e25-a84b-a3600e16a5ce",
   "metadata": {},
   "outputs": [
    {
     "name": "stdout",
     "output_type": "stream",
     "text": [
      "[2, 4, 6]\n"
     ]
    }
   ],
   "source": [
    "# Slicing with step\n",
    "l = [1,2,3,4,5,6,7,8]\n",
    "sliced = l[1:7:2]\n",
    "print(sliced)"
   ]
  },
  {
   "cell_type": "code",
   "execution_count": 130,
   "id": "1987462d-4ee9-40cd-a5a7-48baae35659a",
   "metadata": {},
   "outputs": [
    {
     "name": "stdout",
     "output_type": "stream",
     "text": [
      "[1, 2, 3, 4]\n"
     ]
    }
   ],
   "source": [
    "# SKIP start index\n",
    "l = [1,2,3,4,5,6]\n",
    "print(l[:4])"
   ]
  },
  {
   "cell_type": "code",
   "execution_count": 131,
   "id": "5cbcee16-9192-4419-98ad-943dffdcb7c7",
   "metadata": {},
   "outputs": [
    {
     "name": "stdout",
     "output_type": "stream",
     "text": [
      "[5, 6]\n"
     ]
    }
   ],
   "source": [
    "# SKIP end index\n",
    "l = [1,2,3,4,5,6]\n",
    "print(l[4:])"
   ]
  },
  {
   "cell_type": "code",
   "execution_count": 132,
   "id": "3be30822-ba48-4d13-8c33-d06662837d9e",
   "metadata": {},
   "outputs": [
    {
     "name": "stdout",
     "output_type": "stream",
     "text": [
      "[1, 5]\n"
     ]
    }
   ],
   "source": [
    "# SKIP both start and end index\n",
    "l = [1,2,3,4,5,6]\n",
    "sliced_list = l[::4]\n",
    "print(sliced_list)"
   ]
  },
  {
   "cell_type": "code",
   "execution_count": 133,
   "id": "43171cf2-8fff-43f8-882f-23d21663e4d5",
   "metadata": {},
   "outputs": [
    {
     "name": "stdout",
     "output_type": "stream",
     "text": [
      "[4, 5, 6]\n"
     ]
    }
   ],
   "source": [
    "# Negative index in slicing\n",
    "\n",
    "l = [1, 2, 3, 4, 5, 6, 7, 8]\n",
    "sliced_list = l[-5:-2]\n",
    "print(sliced_list)"
   ]
  },
  {
   "cell_type": "code",
   "execution_count": 134,
   "id": "373fc9aa-589a-4fd7-a89e-512f8ab90336",
   "metadata": {},
   "outputs": [
    {
     "name": "stdout",
     "output_type": "stream",
     "text": [
      "[8, 7, 6, 5, 4, 3, 2, 1]\n"
     ]
    }
   ],
   "source": [
    "print(l[::-1]) # Reverse a list"
   ]
  },
  {
   "cell_type": "code",
   "execution_count": 135,
   "id": "e45d6a7b-9674-4888-8846-d6f94b3a3224",
   "metadata": {},
   "outputs": [
    {
     "name": "stdout",
     "output_type": "stream",
     "text": [
      "[0, 3]\n"
     ]
    }
   ],
   "source": [
    "l = [0, 1, 2, 3, 4, 5, 6, 7, 8]\n",
    "print( l[0:6:3]   )"
   ]
  },
  {
   "cell_type": "code",
   "execution_count": 136,
   "id": "1159e3cd-ed2e-436e-9409-c2b9161adc4c",
   "metadata": {},
   "outputs": [
    {
     "name": "stdin",
     "output_type": "stream",
     "text": [
      "Type any number:  1\n"
     ]
    },
    {
     "name": "stdout",
     "output_type": "stream",
     "text": [
      "1\n"
     ]
    },
    {
     "name": "stdin",
     "output_type": "stream",
     "text": [
      "Type any number:  5\n"
     ]
    }
   ],
   "source": [
    "# Ask user to provide an input number continuously, square that when user will enter 5 exit from the loop and when type 4 skip it\n",
    "while True:\n",
    "    n = int(input(\"Type any number: \"))\n",
    "    if n%4 == 0:\n",
    "        continue\n",
    "    if n == 5:\n",
    "        break\n",
    "    print(n**2)\n",
    "    "
   ]
  },
  {
   "cell_type": "code",
   "execution_count": 137,
   "id": "edcb82ba-82fd-40d8-8e46-e3be8c02f949",
   "metadata": {},
   "outputs": [
    {
     "name": "stdout",
     "output_type": "stream",
     "text": [
      "2\n",
      "4\n",
      "6\n",
      "8\n"
     ]
    }
   ],
   "source": [
    "# Write a for loop that iterates over a list of numbers and prints only the even numbers.\n",
    "input_list = [1,2,3,4,5,6,7,8]\n",
    "for i in input_list:\n",
    "    if i%2 == 0:\n",
    "        print(i)"
   ]
  },
  {
   "cell_type": "markdown",
   "id": "829b1f12-4830-47f7-95a1-da427b744372",
   "metadata": {},
   "source": [
    "#### Pattern problems"
   ]
  },
  {
   "cell_type": "code",
   "execution_count": 138,
   "id": "668fc6f7-e849-481e-8e18-e25f5fc89439",
   "metadata": {},
   "outputs": [
    {
     "name": "stdout",
     "output_type": "stream",
     "text": [
      "*****"
     ]
    }
   ],
   "source": [
    "for j in range(5):\n",
    "    print('*', end='')"
   ]
  },
  {
   "cell_type": "code",
   "execution_count": 139,
   "id": "48249813-d51f-4c6e-99eb-81658a15c801",
   "metadata": {},
   "outputs": [
    {
     "name": "stdout",
     "output_type": "stream",
     "text": [
      "***\n",
      "***\n",
      "***\n",
      "***\n"
     ]
    }
   ],
   "source": [
    "#Write a program to print a N x M matrix of N = 4 (#no of rows) and M = 3 (#no of cols)\n",
    "for i in range(4):\n",
    "    for j in range(3):\n",
    "        print('*', end = '')\n",
    "    print()"
   ]
  },
  {
   "cell_type": "code",
   "execution_count": 140,
   "id": "42da0fee-7b95-4957-a46c-57ed5048d204",
   "metadata": {},
   "outputs": [
    {
     "data": {
      "text/plain": [
       "'\\n*\\n**\\n***\\n****\\n*****\\n'"
      ]
     },
     "execution_count": 140,
     "metadata": {},
     "output_type": "execute_result"
    }
   ],
   "source": [
    "# Write program for below stair design\n",
    "'''\n",
    "*\n",
    "**\n",
    "***\n",
    "****\n",
    "*****\n",
    "'''"
   ]
  },
  {
   "cell_type": "code",
   "execution_count": 141,
   "id": "4faae4ea-2ded-443f-96fd-c9addd741946",
   "metadata": {},
   "outputs": [
    {
     "name": "stdout",
     "output_type": "stream",
     "text": [
      "*\n",
      "**\n",
      "***\n",
      "****\n",
      "*****\n"
     ]
    }
   ],
   "source": [
    "ROW = 5\n",
    "for i in range(ROW):\n",
    "    for j in range(i+1):\n",
    "        print('*', end='')\n",
    "    print()\n",
    "    "
   ]
  },
  {
   "cell_type": "code",
   "execution_count": 142,
   "id": "6f62fc90-a099-4f87-ae68-e00021e9e7b2",
   "metadata": {},
   "outputs": [
    {
     "data": {
      "text/plain": [
       "'\\n******\\n*****\\n****\\n***\\n**\\n*\\n'"
      ]
     },
     "execution_count": 142,
     "metadata": {},
     "output_type": "execute_result"
    }
   ],
   "source": [
    "# write program for reverse stair design\n",
    "'''\n",
    "******\n",
    "*****\n",
    "****\n",
    "***\n",
    "**\n",
    "*\n",
    "'''"
   ]
  },
  {
   "cell_type": "code",
   "execution_count": 143,
   "id": "c389905e-dada-4f16-a7a9-c3dbfed029a3",
   "metadata": {},
   "outputs": [
    {
     "name": "stdout",
     "output_type": "stream",
     "text": [
      "*****\n",
      "****\n",
      "***\n",
      "**\n",
      "*\n"
     ]
    }
   ],
   "source": [
    "for i in range(ROW):\n",
    "    for j in range(ROW-i):\n",
    "        print('*', end='')\n",
    "    print()"
   ]
  },
  {
   "cell_type": "code",
   "execution_count": 144,
   "id": "3a2f42ce-183a-4095-8491-205ede4c28d9",
   "metadata": {},
   "outputs": [
    {
     "data": {
      "text/plain": [
       "'\\n    *\\n   ***\\n  *****\\n *******\\n*********\\n'"
      ]
     },
     "execution_count": 144,
     "metadata": {},
     "output_type": "execute_result"
    }
   ],
   "source": [
    "# Write centered pyramid\n",
    "'''\n",
    "    *\n",
    "   ***\n",
    "  *****\n",
    " *******\n",
    "*********\n",
    "'''"
   ]
  },
  {
   "cell_type": "code",
   "execution_count": 145,
   "id": "97ada307-14a3-49d1-81b1-a76ff6544179",
   "metadata": {},
   "outputs": [
    {
     "name": "stdout",
     "output_type": "stream",
     "text": [
      "      *\n",
      "     ***\n",
      "    *****\n",
      "   *******\n",
      "  *********\n"
     ]
    }
   ],
   "source": [
    "row=5\n",
    "for i in range(row):\n",
    "    print(' ' * (row-i+1) + '*' * (2*i+1))"
   ]
  },
  {
   "cell_type": "code",
   "execution_count": 146,
   "id": "87991f54-f0f8-4741-a13a-99d5e5dc3e52",
   "metadata": {},
   "outputs": [
    {
     "data": {
      "text/plain": [
       "'   \\n    *\\n   ***\\n  *****\\n *******\\n*********\\n *******\\n  *****\\n   ***\\n    *\\n'"
      ]
     },
     "execution_count": 146,
     "metadata": {},
     "output_type": "execute_result"
    }
   ],
   "source": [
    "# Write program for diamond shape\n",
    "'''   \n",
    "    *\n",
    "   ***\n",
    "  *****\n",
    " *******\n",
    "*********\n",
    " *******\n",
    "  *****\n",
    "   ***\n",
    "    *\n",
    "'''"
   ]
  },
  {
   "cell_type": "code",
   "execution_count": 147,
   "id": "080a2051-8217-4bc1-98c7-59d9716bce6c",
   "metadata": {},
   "outputs": [
    {
     "name": "stdout",
     "output_type": "stream",
     "text": [
      "    *\n",
      "   ***\n",
      "  *****\n",
      " *******\n",
      "*********\n",
      " *******\n",
      "  *****\n",
      "   ***\n",
      "    *\n"
     ]
    }
   ],
   "source": [
    "row=5\n",
    "for i in range(row):\n",
    "    print(' ' * (row-1-i) + '*' * (2*i+1))\n",
    "for i in range(row-1):\n",
    "    print(' ' * (i+1) + '*' * (2*(row-2-i)+1))"
   ]
  },
  {
   "cell_type": "markdown",
   "id": "bb5846f2-9a45-49a5-9690-cd0b22b8d8f8",
   "metadata": {},
   "source": [
    "##### Lists operations"
   ]
  },
  {
   "cell_type": "code",
   "execution_count": 148,
   "id": "cc1757c9-e630-48b8-89bb-53ce9f4fae9f",
   "metadata": {},
   "outputs": [],
   "source": [
    "# list can hold multiple data types(hoetrogenous), ordered and mutable\n",
    "num_list = [1,2,3,4,5,6]"
   ]
  },
  {
   "cell_type": "code",
   "execution_count": 149,
   "id": "be00f504-38ce-4162-93cc-fdb0a656a018",
   "metadata": {},
   "outputs": [
    {
     "data": {
      "text/plain": [
       "[1, 2, 3, 4, 5, 6, 7, 11, 12, 13]"
      ]
     },
     "execution_count": 149,
     "metadata": {},
     "output_type": "execute_result"
    }
   ],
   "source": [
    "num_list.append(7)\n",
    "\n",
    "num_list.extend([11,12,13])\n",
    "num_list"
   ]
  },
  {
   "cell_type": "code",
   "execution_count": 150,
   "id": "ba75e73b-a44d-433c-8c97-d4b8526617df",
   "metadata": {},
   "outputs": [
    {
     "data": {
      "text/plain": [
       "[1, 3, 4, 5, 6, 7, 11, 12, 13]"
      ]
     },
     "execution_count": 150,
     "metadata": {},
     "output_type": "execute_result"
    }
   ],
   "source": [
    "num_list.remove(2)\n",
    "num_list"
   ]
  },
  {
   "cell_type": "code",
   "execution_count": 151,
   "id": "ea20000e-5ebc-47c7-b5b1-307fb0e90481",
   "metadata": {},
   "outputs": [
    {
     "data": {
      "text/plain": [
       "[1, 3, 4, 5, 6, 7, 11, 12]"
      ]
     },
     "execution_count": 151,
     "metadata": {},
     "output_type": "execute_result"
    }
   ],
   "source": [
    "num_list.pop()\n",
    "num_list"
   ]
  },
  {
   "cell_type": "code",
   "execution_count": 152,
   "id": "970ca32b-7e18-43f3-916c-7255817c014a",
   "metadata": {},
   "outputs": [
    {
     "data": {
      "text/plain": [
       "[1, 4, 5, 6, 7, 11, 12]"
      ]
     },
     "execution_count": 152,
     "metadata": {},
     "output_type": "execute_result"
    }
   ],
   "source": [
    "num_list.pop(1)\n",
    "num_list"
   ]
  },
  {
   "cell_type": "code",
   "execution_count": 153,
   "id": "6c25ce95-a40f-4e48-bc25-5f16f9a32323",
   "metadata": {},
   "outputs": [
    {
     "data": {
      "text/plain": [
       "[1, 4, 5, 6, 7, 11, 12]"
      ]
     },
     "execution_count": 153,
     "metadata": {},
     "output_type": "execute_result"
    }
   ],
   "source": [
    "num_list.sort()\n",
    "num_list"
   ]
  },
  {
   "cell_type": "code",
   "execution_count": 154,
   "id": "2a1fccf7-b442-4a90-9ae9-b7d9de78532a",
   "metadata": {},
   "outputs": [
    {
     "data": {
      "text/plain": [
       "[1, 4, 5, 6, 7, 11, 12, [8, 9, 15, 10]]"
      ]
     },
     "execution_count": 154,
     "metadata": {},
     "output_type": "execute_result"
    }
   ],
   "source": [
    "num_list.append([8,9,15,10])\n",
    "num_list"
   ]
  },
  {
   "cell_type": "code",
   "execution_count": 155,
   "id": "348caad8-9986-4a06-a555-99cd854b5a07",
   "metadata": {},
   "outputs": [
    {
     "name": "stdout",
     "output_type": "stream",
     "text": [
      "[2, 4, 6, 8, 10]\n"
     ]
    }
   ],
   "source": [
    "def filter_even_number(numbers):\n",
    "    evennumbers = []\n",
    "    return [numb for numb in numbers if numb%2 == 0]\n",
    "\n",
    "numbers = [1, 2, 3, 4, 5, 6, 7, 8, 9, 10]\n",
    "print(filter_even_number(numbers))"
   ]
  },
  {
   "cell_type": "code",
   "execution_count": 156,
   "id": "a2d1d9f3-c07b-46cf-bb72-32c54dd7180b",
   "metadata": {},
   "outputs": [
    {
     "name": "stdout",
     "output_type": "stream",
     "text": [
      "['banana', 'cherry']\n"
     ]
    }
   ],
   "source": [
    "def filter_string(strings, length):\n",
    "    return [string for string in strings if len(string) > 5]\n",
    "\n",
    "strings = [\"apple\", \"banana\", \"cherry\", \"kiwi\", \"mango\"]\n",
    "length=5\n",
    "print(filter_string(strings, length))"
   ]
  },
  {
   "cell_type": "code",
   "execution_count": 157,
   "id": "7ed7cfdf-21c6-4db6-9209-b2f999a4872d",
   "metadata": {},
   "outputs": [
    {
     "name": "stdout",
     "output_type": "stream",
     "text": [
      "{'l': 1, 'e': 2, 'a': 1, 'p': 3, 'i': 1}\n"
     ]
    }
   ],
   "source": [
    "def count_char_frequency(string):\n",
    "    freq = {}\n",
    "    unique_char = set(string)\n",
    "    for char in unique_char:\n",
    "        if char != ' ':\n",
    "            freq[char] = string.count(char)\n",
    "    return freq\n",
    "print(count_char_frequency(\"apple pie\"))"
   ]
  },
  {
   "cell_type": "code",
   "execution_count": 158,
   "id": "6b032556-afc7-4a57-9bd8-ca84da648601",
   "metadata": {},
   "outputs": [
    {
     "name": "stdout",
     "output_type": "stream",
     "text": [
      "True\n"
     ]
    }
   ],
   "source": [
    "def is_pangram(string):\n",
    "    array = [0]*26\n",
    "    string = string.lower()\n",
    "    for s in string:\n",
    "        if s != ' ':\n",
    "            array[ord(s) - 97] += 1\n",
    "    for l in array:\n",
    "        if l == 0: \n",
    "            return False\n",
    "    return True\n",
    "print(is_pangram(\"The quick brown fox jumps over the lazy dog\"))"
   ]
  },
  {
   "cell_type": "code",
   "execution_count": 159,
   "id": "1092da96-8a8c-4630-929a-d528f9fe9269",
   "metadata": {},
   "outputs": [
    {
     "name": "stdout",
     "output_type": "stream",
     "text": [
      "['you?', 'are', 'how', 'world,', 'Hello']\n"
     ]
    }
   ],
   "source": [
    "def reverse_sentence(sentence):\n",
    "    sentence = sentence.split()\n",
    "    reverse_string = sentence[::-1]\n",
    "    return reverse_string\n",
    "\n",
    "sentence = \"Hello world, how are you?\"\n",
    "print(reverse_sentence(sentence))"
   ]
  },
  {
   "cell_type": "code",
   "execution_count": 160,
   "id": "66597762-5e90-4690-891c-1c1b20326935",
   "metadata": {},
   "outputs": [
    {
     "name": "stdout",
     "output_type": "stream",
     "text": [
      "[0, 4]\n"
     ]
    }
   ],
   "source": [
    "def find_missing_number(list_):\n",
    "    missing_number = []\n",
    "    max_number = max(list_)\n",
    "    for i in range(0, max_number+1):\n",
    "        if i not in list_:\n",
    "            missing_number.append(i)\n",
    "\n",
    "    return missing_number\n",
    "list_ = [1, 2, 3, 5]\n",
    "print(find_missing_number(list_))"
   ]
  },
  {
   "cell_type": "code",
   "execution_count": 161,
   "id": "4903ff29-df4b-41c7-9581-787d2d6869e4",
   "metadata": {},
   "outputs": [
    {
     "name": "stdout",
     "output_type": "stream",
     "text": [
      "[3, 4]\n"
     ]
    }
   ],
   "source": [
    "def common_elements(list1_, list2_):\n",
    "    elements = []\n",
    "    for i in list2_:\n",
    "        if i in list1_:\n",
    "            elements.append(i)\n",
    "    return elements\n",
    "list1_ = [1,2,3,4]\n",
    "list2_ = [3,4,5,6]\n",
    "print(common_elements(list1_, list2_))"
   ]
  },
  {
   "cell_type": "code",
   "execution_count": 162,
   "id": "96dbf4f0-630e-4913-bada-4aa25a24afd2",
   "metadata": {},
   "outputs": [
    {
     "name": "stdout",
     "output_type": "stream",
     "text": [
      "({'a': 1, 'e': 2, 'o': 3, 'u': 1}, 7)\n"
     ]
    }
   ],
   "source": [
    "def count_vowels(string):\n",
    "    vowel_frequency = {}\n",
    "    vowels = 'aeiou'\n",
    "    string = string.replace(' ', '')\n",
    "    for char in vowels:\n",
    "        if char in string:\n",
    "            vowel_frequency[char] = string.count(char)\n",
    "    frequency = sum(vowel_frequency.values())\n",
    "    return vowel_frequency, frequency\n",
    "text = \"Hello, how are you?\"\n",
    "print(count_vowels(text))"
   ]
  },
  {
   "cell_type": "code",
   "execution_count": 163,
   "id": "590dfc64-9f2d-4490-8ae7-880f292401bf",
   "metadata": {},
   "outputs": [
    {
     "name": "stdout",
     "output_type": "stream",
     "text": [
      "5\n"
     ]
    }
   ],
   "source": [
    "def count_words(string):\n",
    "    all_words = string.split(' ')\n",
    "    return len(all_words)\n",
    "text = \"This is a sample sentence.\"\n",
    "print(count_words(text))"
   ]
  },
  {
   "cell_type": "code",
   "execution_count": 164,
   "id": "51ccac62-e5ce-46b3-88bb-227ddc6c50a7",
   "metadata": {},
   "outputs": [
    {
     "name": "stdout",
     "output_type": "stream",
     "text": [
      "[5, 5, 6, 0]\n"
     ]
    }
   ],
   "source": [
    "def length_string(list_):\n",
    "    count = []\n",
    "    for word in list_:\n",
    "        count.append(len(word))\n",
    "    return count\n",
    "strings = [\"Hello\", \"world\", \"Python\", \"\"]\n",
    "print(length_string(strings))"
   ]
  },
  {
   "cell_type": "code",
   "execution_count": 165,
   "id": "9390ec0d-f55e-4f97-a295-4c43e21294c8",
   "metadata": {},
   "outputs": [
    {
     "name": "stdout",
     "output_type": "stream",
     "text": [
      "True\n",
      "True\n",
      "False\n",
      "False\n",
      "True\n"
     ]
    }
   ],
   "source": [
    "def is_palindrome(word):\n",
    "    word = str(word)\n",
    "    reverse = word[::-1]\n",
    "    return word == reverse\n",
    "list_=['radar', 'level', 'gain', 143, 282]\n",
    "for word in list_:\n",
    "    print(is_palindrome(word))"
   ]
  },
  {
   "cell_type": "code",
   "execution_count": 166,
   "id": "f81d3927-51d2-4bae-8557-c183fc4d4924",
   "metadata": {},
   "outputs": [
    {
     "name": "stdout",
     "output_type": "stream",
     "text": [
      "34\n"
     ]
    }
   ],
   "source": [
    "def fibonacci(n):\n",
    "    fib_array = [0, 1]\n",
    "    if len(fib_array) == n:\n",
    "        return fib_array[-1]\n",
    "    else:\n",
    "        while len(fib_array) < n:\n",
    "            next_element = fib_array[-1] + fib_array[-2]\n",
    "            fib_array.append(next_element)\n",
    "        return fib_array[-1]\n",
    "print(fibonacci(10))"
   ]
  },
  {
   "cell_type": "code",
   "execution_count": 167,
   "id": "d97372b2-4dee-4eb2-97a2-c022b93f26b6",
   "metadata": {},
   "outputs": [
    {
     "name": "stdout",
     "output_type": "stream",
     "text": [
      "['I', 'am', 'human', 'kind', 'of', 'thing']\n",
      "thing of kind human am I\n"
     ]
    }
   ],
   "source": [
    "def reverse_string(string):\n",
    "    word_list = []\n",
    "    for s in string.strip().split():\n",
    "        word_list.append(s)\n",
    "    print(word_list)\n",
    "    return ' '.join(word_list[::-1])\n",
    "string = \"I am human kind of thing\"\n",
    "print(reverse_string(string))"
   ]
  },
  {
   "cell_type": "code",
   "execution_count": 168,
   "id": "9f59e4d4-1726-48f6-9dac-c87f5522a92c",
   "metadata": {},
   "outputs": [
    {
     "name": "stdout",
     "output_type": "stream",
     "text": [
      "[1, 2, 3, 4, 5, 6, 7]\n"
     ]
    }
   ],
   "source": [
    "def list_flatten(list_):\n",
    "    flatten_list = []\n",
    "    for l in list_:\n",
    "        if isinstance(l, list):\n",
    "            flatten_list.extend(l)\n",
    "        else:\n",
    "            flatten_list.append(l)\n",
    "    return flatten_list\n",
    "nested_list = [1, [2, 3], [4, 5, 6], 7]\n",
    "print(list_flatten(nested_list))"
   ]
  },
  {
   "cell_type": "code",
   "execution_count": 200,
   "id": "70f41870-8cbc-4c16-8473-70c0cbd129fb",
   "metadata": {},
   "outputs": [
    {
     "name": "stdout",
     "output_type": "stream",
     "text": [
      "True\n"
     ]
    }
   ],
   "source": [
    "# Pallindrome with for-loop\n",
    "def is_pallindrome_with_loop(str_):\n",
    "    front=0\n",
    "    last=len(str_)-1\n",
    "    while front < last:\n",
    "        if str_[front] != str_[last]:\n",
    "            return False\n",
    "        front+=1\n",
    "        last-=1\n",
    "        \n",
    "    return True\n",
    "print(is_pallindrome_with_loop(\"1bcb1\"))"
   ]
  },
  {
   "cell_type": "code",
   "execution_count": 204,
   "id": "676d4e41-0844-45d9-bee1-1baa24276665",
   "metadata": {},
   "outputs": [
    {
     "name": "stdout",
     "output_type": "stream",
     "text": [
      "3\n"
     ]
    }
   ],
   "source": [
    "# Count blank spaces in string\n",
    "str_ = 'Hi, how are you?'\n",
    "count=0\n",
    "for i in str_:\n",
    "    if i == ' ':\n",
    "        count+=1\n",
    "print(count)"
   ]
  },
  {
   "cell_type": "code",
   "execution_count": 202,
   "id": "f9ad7232-f593-47cb-9cd9-11768198c6da",
   "metadata": {},
   "outputs": [
    {
     "name": "stdout",
     "output_type": "stream",
     "text": [
      "?uoy era woh iH\n"
     ]
    }
   ],
   "source": [
    "# Write a program to Reversing a String without using reverse().\n",
    "def reverse_string(str_):\n",
    "    return str_[::-1]\n",
    "print(reverse_string('Hi how are you?'))"
   ]
  },
  {
   "cell_type": "code",
   "execution_count": 211,
   "id": "0a340000-f38a-4f10-9b6f-b5e6063e0640",
   "metadata": {},
   "outputs": [
    {
     "name": "stdout",
     "output_type": "stream",
     "text": [
      "[-1, 1, 3, 5, 7, 9]\n"
     ]
    }
   ],
   "source": [
    "arr = [-1,0,1,2,3,4,5,6,7,8,9]\n",
    "\n",
    "print(arr[::2])"
   ]
  },
  {
   "cell_type": "code",
   "execution_count": 217,
   "id": "40191961-9daa-4986-9392-1a5ed2a1ad54",
   "metadata": {},
   "outputs": [
    {
     "name": "stdout",
     "output_type": "stream",
     "text": [
      "{2, 3, 4, 5}\n",
      "<class 'set'>\n"
     ]
    }
   ],
   "source": [
    "s1 = {2,3,4}\n",
    "s1.add(5)\n",
    "print(s1)\n",
    "print(type(s1))"
   ]
  },
  {
   "cell_type": "code",
   "execution_count": 218,
   "id": "43029e16-91f5-454b-ad3d-9367d144f82b",
   "metadata": {},
   "outputs": [
    {
     "name": "stdout",
     "output_type": "stream",
     "text": [
      "2\n",
      "{3, 4, 5}\n"
     ]
    }
   ],
   "source": [
    "pop_ = s1.pop()\n",
    "print(pop_)\n",
    "print(s1)"
   ]
  },
  {
   "cell_type": "code",
   "execution_count": 221,
   "id": "e918f24a-fade-4f1c-83a6-741415c786c7",
   "metadata": {},
   "outputs": [
    {
     "name": "stdout",
     "output_type": "stream",
     "text": [
      "S1:  {3, 4, 5}\n",
      "S2:  {5, 6, 7}\n"
     ]
    }
   ],
   "source": [
    "s2 = {5, 6, 7}\n",
    "print(\"S1: \", s1)\n",
    "print(\"S2: \", s2)"
   ]
  },
  {
   "cell_type": "code",
   "execution_count": 223,
   "id": "8b559e44-0fef-4911-b4f9-f5f1078f5c59",
   "metadata": {},
   "outputs": [
    {
     "name": "stdout",
     "output_type": "stream",
     "text": [
      "{3, 4, 5, 6, 7}\n"
     ]
    }
   ],
   "source": [
    "print(s1 | s2) #Union operation"
   ]
  },
  {
   "cell_type": "code",
   "execution_count": 225,
   "id": "0d6da1b6-6532-4fe8-97ce-02fe1b17d840",
   "metadata": {},
   "outputs": [
    {
     "name": "stdout",
     "output_type": "stream",
     "text": [
      "{5}\n"
     ]
    }
   ],
   "source": [
    "print(s1 & s2) "
   ]
  },
  {
   "cell_type": "code",
   "execution_count": 228,
   "id": "8fc4d322-d87d-42ae-97fc-3e387d27ab8c",
   "metadata": {},
   "outputs": [
    {
     "name": "stdout",
     "output_type": "stream",
     "text": [
      "{3, 4}\n"
     ]
    }
   ],
   "source": [
    "print(s1 - s2) "
   ]
  },
  {
   "cell_type": "code",
   "execution_count": 229,
   "id": "f7816d39-7119-49a3-8003-4a48a7dec54f",
   "metadata": {},
   "outputs": [
    {
     "name": "stdout",
     "output_type": "stream",
     "text": [
      "{3, 4, 6, 7}\n"
     ]
    }
   ],
   "source": [
    "print(s1 ^ s2) #Symetric difference"
   ]
  },
  {
   "cell_type": "code",
   "execution_count": 230,
   "id": "a288d8a4-acec-4204-81e2-74a00aeaf75e",
   "metadata": {},
   "outputs": [
    {
     "name": "stdout",
     "output_type": "stream",
     "text": [
      "<class 'dict'>\n"
     ]
    }
   ],
   "source": [
    "dict_ = {'name': 'Vicky', 'city': 'Gzb'}\n",
    "print(type(dict_))"
   ]
  },
  {
   "cell_type": "code",
   "execution_count": 231,
   "id": "92e5f8ed-8b76-4cf0-8e2f-9b1c29d3cade",
   "metadata": {},
   "outputs": [
    {
     "name": "stdout",
     "output_type": "stream",
     "text": [
      "{'name': 'Vinay', 'city': 'Noida'}\n"
     ]
    }
   ],
   "source": [
    "dupl_dict_ = dict(name='Vinay', city='Noida')\n",
    "print(dupl_dict_)"
   ]
  },
  {
   "cell_type": "code",
   "execution_count": 233,
   "id": "cfa8387c-1037-4cb6-bc46-ce96f5985f81",
   "metadata": {},
   "outputs": [
    {
     "name": "stdout",
     "output_type": "stream",
     "text": [
      "Vinay\n"
     ]
    }
   ],
   "source": [
    "print(dupl_dict_.get('name'))"
   ]
  },
  {
   "cell_type": "code",
   "execution_count": 234,
   "id": "0bb58cc8-9927-4a41-9da7-5ddae629bfec",
   "metadata": {},
   "outputs": [
    {
     "name": "stdout",
     "output_type": "stream",
     "text": [
      "dict_items([('name', 'Vinay'), ('city', 'Noida')])\n",
      "dict_keys(['name', 'city'])\n",
      "dict_values(['Vinay', 'Noida'])\n"
     ]
    }
   ],
   "source": [
    "print(dupl_dict_.items())\n",
    "print(dupl_dict_.keys())\n",
    "print(dupl_dict_.values())"
   ]
  },
  {
   "cell_type": "markdown",
   "id": "8e7dd805-8cbb-4c1a-b1be-688842d0ecad",
   "metadata": {},
   "source": [
    "### Higher order functions\n",
    "- function that can take other functions as arguments and/or return functions as outputs"
   ]
  },
  {
   "cell_type": "code",
   "execution_count": 1,
   "id": "f1d3307d-a9f0-4e57-9f84-5a36ee3e1cd7",
   "metadata": {},
   "outputs": [
    {
     "name": "stdout",
     "output_type": "stream",
     "text": [
      "[4, 16, 36, 64]\n"
     ]
    }
   ],
   "source": [
    "def square(x):\n",
    "    return x*x\n",
    "\n",
    "def apply_on_list_items(func, list_):\n",
    "    return [func(x) for x in list_]\n",
    "\n",
    "l = [2, 4, 6, 8]\n",
    "print(apply_on_list_items(square, l))"
   ]
  },
  {
   "cell_type": "markdown",
   "id": "0d83f1dc-b978-46db-b1c0-b84d59f11fff",
   "metadata": {},
   "source": [
    "#### **map** We can perform above operation using map because **map takes function and iterable as arguments and returns a new iterable**"
   ]
  },
  {
   "cell_type": "code",
   "execution_count": 2,
   "id": "435294df-4a36-4efa-b3c1-2dae9dd248c6",
   "metadata": {},
   "outputs": [
    {
     "data": {
      "text/plain": [
       "[4, 16, 36, 64]"
      ]
     },
     "execution_count": 2,
     "metadata": {},
     "output_type": "execute_result"
    }
   ],
   "source": [
    "list(map(square, l))"
   ]
  },
  {
   "cell_type": "markdown",
   "id": "49ea3e2f-0d4a-401b-a615-1c93498368e2",
   "metadata": {},
   "source": [
    "#### **filter** takes function and iterable as arguments and **returns a new iterable that contain only the item from the original iterable**"
   ]
  },
  {
   "cell_type": "code",
   "execution_count": 4,
   "id": "eacba11a-43e6-4bef-82c9-497f01ea692a",
   "metadata": {},
   "outputs": [
    {
     "data": {
      "text/plain": [
       "[2, 4, 6, 8]"
      ]
     },
     "execution_count": 4,
     "metadata": {},
     "output_type": "execute_result"
    }
   ],
   "source": [
    "def is_even(x):\n",
    "    return x%2 == 0\n",
    "\n",
    "l = [1, 2, 3, 4, 5, 6, 7, 8]\n",
    "list(filter(is_even, l))"
   ]
  },
  {
   "cell_type": "markdown",
   "id": "c558cdc4-732e-4a96-8a79-d2def58612e7",
   "metadata": {},
   "source": [
    "#### **reduce** takes a function and an iterable as arguments and **returns a single value** that is the result of reducing the iterable to a single value using the function"
   ]
  },
  {
   "cell_type": "code",
   "execution_count": 5,
   "id": "b0f6a0f1-e9f9-4703-a93c-b6280a44e243",
   "metadata": {},
   "outputs": [
    {
     "data": {
      "text/plain": [
       "55"
      ]
     },
     "execution_count": 5,
     "metadata": {},
     "output_type": "execute_result"
    }
   ],
   "source": [
    "from functools import reduce\n",
    "\n",
    "def add(a, b):\n",
    "    return a+b\n",
    "l = [1, 2, 3, 4, 5, 6, 7, 8, 9, 10]\n",
    "reduce(add, l)\n"
   ]
  },
  {
   "cell_type": "markdown",
   "id": "b24059e1-6bb5-4204-88ec-b95a8684fdcc",
   "metadata": {},
   "source": [
    "#### **Lambda functions(annonymous function)** are small functions that are restricted to a single expression"
   ]
  },
  {
   "cell_type": "code",
   "execution_count": 6,
   "id": "6ded70df-03a5-4268-86f2-a55da87e3aa9",
   "metadata": {},
   "outputs": [
    {
     "name": "stdout",
     "output_type": "stream",
     "text": [
      "25\n"
     ]
    }
   ],
   "source": [
    "# Square \n",
    "square = lambda x: x*x\n",
    "print(square(5))"
   ]
  },
  {
   "cell_type": "code",
   "execution_count": 7,
   "id": "accdca75-ca01-4735-8bf4-c61bd0322f3d",
   "metadata": {},
   "outputs": [
    {
     "name": "stdout",
     "output_type": "stream",
     "text": [
      "3\n"
     ]
    }
   ],
   "source": [
    "# With multiple arguments\n",
    "sum = lambda a, b : a+b\n",
    "print(sum(1, 2))"
   ]
  },
  {
   "cell_type": "code",
   "execution_count": 11,
   "id": "69cf4e11-c360-42aa-ad74-8f2b8aaf9043",
   "metadata": {},
   "outputs": [
    {
     "name": "stdout",
     "output_type": "stream",
     "text": [
      "[2, 4, 6, 8, 10]\n"
     ]
    }
   ],
   "source": [
    "# Print even numbers\n",
    "even_numbers = list(filter(lambda n: n%2 == 0, l))\n",
    "\n",
    "print(even_numbers)"
   ]
  },
  {
   "cell_type": "code",
   "execution_count": 13,
   "id": "498b6a9d-2a31-4742-91da-46f747e67fe3",
   "metadata": {},
   "outputs": [
    {
     "data": {
      "text/plain": [
       "[1, 4, 9, 16, 25, 36, 49, 64, 81, 100]"
      ]
     },
     "execution_count": 13,
     "metadata": {},
     "output_type": "execute_result"
    }
   ],
   "source": [
    "# Sqaure using lambda\n",
    "\n",
    "list((lambda x: x**2)(x) for x in l)"
   ]
  },
  {
   "cell_type": "code",
   "execution_count": 16,
   "id": "be992aee-d9b5-4756-aeba-e41599fb0d73",
   "metadata": {},
   "outputs": [
    {
     "name": "stdout",
     "output_type": "stream",
     "text": [
      "<class 'tuple'>\n",
      "4\n"
     ]
    }
   ],
   "source": [
    "def add(*arg):\n",
    "  print(type(arg))\n",
    "  print(arg[1][0])\n",
    "\n",
    "add(2,[4,3],4,5)"
   ]
  },
  {
   "cell_type": "markdown",
   "id": "4ed1844c-b508-4a3d-9ced-626e9db591f0",
   "metadata": {},
   "source": [
    "**Decorator**"
   ]
  },
  {
   "cell_type": "code",
   "execution_count": 33,
   "id": "7f1d71b9-9c96-4600-8618-69798f22f5fb",
   "metadata": {},
   "outputs": [
    {
     "name": "stdout",
     "output_type": "stream",
     "text": [
      "Hi!!!\n",
      "Boy\n",
      "Bye\n"
     ]
    }
   ],
   "source": [
    "def decorator(func):\n",
    "    def wrapper():\n",
    "        print(\"Hi!!!\")\n",
    "        func()\n",
    "        print(\"Bye\")\n",
    "    return wrapper\n",
    "\n",
    "def say_hello():\n",
    "    print(\"Boy\")\n",
    "\n",
    "say_hi = decorator(say_hello)\n",
    "\n",
    "say_hi()"
   ]
  },
  {
   "cell_type": "code",
   "execution_count": 37,
   "id": "83690c8e-83fa-49f7-b900-7fdfc205a3ec",
   "metadata": {},
   "outputs": [
    {
     "name": "stdout",
     "output_type": "stream",
     "text": [
      "Hi!!!\n",
      "Boy\n",
      "Bye\n"
     ]
    }
   ],
   "source": [
    "def decorator(func):\n",
    "    def wrapper():\n",
    "        print(\"Hi!!!\")\n",
    "        func()\n",
    "        print(\"Bye\")\n",
    "    return wrapper\n",
    "\n",
    "@decorator\n",
    "def say_hello():\n",
    "    print(\"Boy\")\n",
    "\n",
    "say_hello()"
   ]
  },
  {
   "cell_type": "code",
   "execution_count": 39,
   "id": "71a78480-2009-480e-9edf-4c49e0f63f14",
   "metadata": {},
   "outputs": [
    {
     "name": "stdout",
     "output_type": "stream",
     "text": [
      "Whee!\n",
      "Whee!\n"
     ]
    }
   ],
   "source": [
    "def do_twice(func):\n",
    "    def wrapper_do_twice():\n",
    "        func()\n",
    "        func()\n",
    "    return wrapper_do_twice\n",
    "\n",
    "@do_twice\n",
    "def say_whee():\n",
    "    print(\"Whee!\")\n",
    "\n",
    "say_whee()"
   ]
  },
  {
   "cell_type": "code",
   "execution_count": 47,
   "id": "965de91b-418b-4b2b-a307-c70f390f9174",
   "metadata": {},
   "outputs": [
    {
     "name": "stdout",
     "output_type": "stream",
     "text": [
      "Hello World\n",
      "Hello World\n"
     ]
    }
   ],
   "source": [
    "def do_twice(func):\n",
    "    def wrapper_do_twice(n):\n",
    "        func(n)\n",
    "        func(n)\n",
    "    return wrapper_do_twice\n",
    "\n",
    "@do_twice\n",
    "def say_whee(name):\n",
    "    print(f\"Hello {name}\")\n",
    "\n",
    "say_whee(\"World\")"
   ]
  },
  {
   "cell_type": "code",
   "execution_count": 49,
   "id": "1d9b6a69-8cf7-4d98-8cb4-8a3acd5cb8b8",
   "metadata": {},
   "outputs": [
    {
     "name": "stdout",
     "output_type": "stream",
     "text": [
      "Create greet function\n",
      "Create greet function\n"
     ]
    }
   ],
   "source": [
    "def do_twice(func):\n",
    "    def wrapper_do_twice(n):\n",
    "        func(n)\n",
    "        func(n)\n",
    "    return wrapper_do_twice\n",
    "\n",
    "@do_twice\n",
    "def return_greeting(name):\n",
    "    print(\"Create greet function\")\n",
    "    return f\"Hi {name}\"  # Noticed this return statement swallow by decorator because we have to return value from decorator function\n",
    "\n",
    "return_greeting(\"World\")"
   ]
  },
  {
   "cell_type": "code",
   "execution_count": 50,
   "id": "1362f067-f4fd-496d-9ce5-1c654eaee13f",
   "metadata": {},
   "outputs": [
    {
     "name": "stdout",
     "output_type": "stream",
     "text": [
      "Create greet function\n",
      "Create greet function\n"
     ]
    },
    {
     "data": {
      "text/plain": [
       "'Hi World'"
      ]
     },
     "execution_count": 50,
     "metadata": {},
     "output_type": "execute_result"
    }
   ],
   "source": [
    "def do_twice(func):\n",
    "    def wrapper_do_twice(n):\n",
    "        func(n)\n",
    "        return func(n)\n",
    "    return wrapper_do_twice\n",
    "\n",
    "@do_twice\n",
    "def return_greeting(name):\n",
    "    print(\"Create greet function\")\n",
    "    return f\"Hi {name}\"\n",
    "\n",
    "return_greeting(\"World\")"
   ]
  },
  {
   "cell_type": "code",
   "execution_count": 72,
   "id": "73c20036-fc65-4151-9b94-c91a968e690a",
   "metadata": {},
   "outputs": [],
   "source": [
    "import functools\n",
    "import time\n",
    "\n",
    "def timer(func):\n",
    "    \"\"\"Print the runtime of the decorated function\"\"\"\n",
    "    @functools.wraps(func)\n",
    "    def wrapper_timer(*args, **kwargs):\n",
    "        start_time = time.perf_counter()\n",
    "        value = func(*args, **kwargs)\n",
    "        end_time = time.perf_counter()\n",
    "        run_time = end_time - start_time\n",
    "        print(f\"Finished {func.__name__}() in {run_time:.4f} secs\")\n",
    "        return value\n",
    "    return wrapper_timer"
   ]
  },
  {
   "cell_type": "code",
   "execution_count": 77,
   "id": "a4ac75f9-9460-40b2-aee5-865baea0a49b",
   "metadata": {},
   "outputs": [],
   "source": [
    "@timer\n",
    "def waste_some_time(num_times):\n",
    "    for _ in range(num_times):\n",
    "        print(\"Hello\")"
   ]
  },
  {
   "cell_type": "code",
   "execution_count": 78,
   "id": "248f4eef-6698-4861-9c0a-860d9077b0e0",
   "metadata": {},
   "outputs": [
    {
     "name": "stdout",
     "output_type": "stream",
     "text": [
      "Hello\n",
      "Hello\n",
      "Finished waste_some_time() in 0.0001 secs\n"
     ]
    }
   ],
   "source": [
    "waste_some_time(2)"
   ]
  },
  {
   "cell_type": "code",
   "execution_count": null,
   "id": "9f8103ef-12be-437c-b312-659a0874b0b9",
   "metadata": {},
   "outputs": [],
   "source": []
  },
  {
   "cell_type": "code",
   "execution_count": 82,
   "id": "49a1bcad-b0d7-418d-89bc-432599297576",
   "metadata": {},
   "outputs": [
    {
     "name": "stdout",
     "output_type": "stream",
     "text": [
      "Calling make_greeting('Adam')\n",
      "make_greeting() returned 'Hi Adam!'\n",
      "Calling make_greeting('Anna', age=20)\n",
      "make_greeting() returned \"Whoa Anna! 20 already, you're growing up!\"\n"
     ]
    },
    {
     "data": {
      "text/plain": [
       "\"Whoa Anna! 20 already, you're growing up!\""
      ]
     },
     "execution_count": 82,
     "metadata": {},
     "output_type": "execute_result"
    }
   ],
   "source": [
    "import functools\n",
    "\n",
    "def debug(func):\n",
    "    @functools.wraps(func)\n",
    "    def wrapper_debug(*args, **kwargs):\n",
    "        args_repr = [repr(a) for a in args]\n",
    "        kwargs_repr = [f\"{k}={repr(v)}\" for k, v in kwargs.items()]\n",
    "        signature = \", \".join(args_repr + kwargs_repr)\n",
    "        print(f\"Calling {func.__name__}({signature})\")\n",
    "        value = func(*args, **kwargs)\n",
    "        print(f\"{func.__name__}() returned {repr(value)}\")\n",
    "        return value\n",
    "    return wrapper_debug\n",
    "\n",
    "@debug\n",
    "def make_greeting(name, age=None):\n",
    "    if age is None:\n",
    "        return f\"Hi {name}!\"\n",
    "    else:\n",
    "        return f\"Whoa {name}! {age} already, you're growing up!\"\n",
    "\n",
    "make_greeting(\"Adam\")\n",
    "\n",
    "make_greeting(\"Anna\", age=20)"
   ]
  },
  {
   "cell_type": "code",
   "execution_count": null,
   "id": "53604928-693a-4b17-8543-86c485167a96",
   "metadata": {},
   "outputs": [],
   "source": []
  }
 ],
 "metadata": {
  "kernelspec": {
   "display_name": "Python 3 (ipykernel)",
   "language": "python",
   "name": "python3"
  },
  "language_info": {
   "codemirror_mode": {
    "name": "ipython",
    "version": 3
   },
   "file_extension": ".py",
   "mimetype": "text/x-python",
   "name": "python",
   "nbconvert_exporter": "python",
   "pygments_lexer": "ipython3",
   "version": "3.13.5"
  }
 },
 "nbformat": 4,
 "nbformat_minor": 5
}
