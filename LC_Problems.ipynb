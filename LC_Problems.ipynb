{
 "cells": [
  {
   "cell_type": "markdown",
   "id": "cf260468-99b1-4142-8b10-b96ceb50335e",
   "metadata": {},
   "source": [
    "### Easy Leet Code Problems with Python"
   ]
  },
  {
   "cell_type": "markdown",
   "id": "89fdb8bc-aebc-445f-8f6a-f02064e47ee9",
   "metadata": {
    "jp-MarkdownHeadingCollapsed": true
   },
   "source": [
    "#### **Largest Triangle Area**\n",
    "\n",
    "https://leetcode.com/problems/largest-triangle-area"
   ]
  },
  {
   "cell_type": "code",
   "execution_count": 1,
   "id": "a6a4b589-f3a6-413b-bdc6-51d657be032a",
   "metadata": {},
   "outputs": [],
   "source": [
    "input_ = [[0,0],[0,1],[1,0],[0,2],[2,0]]"
   ]
  },
  {
   "cell_type": "code",
   "execution_count": 3,
   "id": "04e0581e-7ccb-4daf-935c-95f73212ce34",
   "metadata": {},
   "outputs": [
    {
     "name": "stdout",
     "output_type": "stream",
     "text": [
      "2.0\n"
     ]
    }
   ],
   "source": [
    "largest_area = 0\n",
    "len_ = len(input_)\n",
    "\n",
    "for i in range(len_):\n",
    "    for j in range(i+1, len_):\n",
    "        for k in range(j+1, len_):\n",
    "            x1, y1 = input_[i]\n",
    "            x2, y2 = input_[j]\n",
    "            x3, y3 = input_[k]\n",
    "\n",
    "            calculated_area = 0.5 * abs(x1*(y2 - y3) + x2*(y3 - y1) + x3*(y1 - y2))\n",
    "            largest_area = max(largest_area, calculated_area)\n",
    "\n",
    "print(largest_area)"
   ]
  },
  {
   "cell_type": "markdown",
   "id": "9a607387-e12f-4ec9-bbd5-7909ae481e96",
   "metadata": {
    "jp-MarkdownHeadingCollapsed": true
   },
   "source": [
    "#### **Two Sum**\n",
    "https://leetcode.com/problems/two-sum"
   ]
  },
  {
   "cell_type": "code",
   "execution_count": 24,
   "id": "5b9ed9f9-a972-4ce2-b673-94326c234385",
   "metadata": {},
   "outputs": [
    {
     "name": "stdout",
     "output_type": "stream",
     "text": [
      "[0, 1]\n"
     ]
    }
   ],
   "source": [
    "def twoSum(nums, target):\n",
    "    dict_ = {}\n",
    "    for i, n in enumerate(nums):\n",
    "        diff = target - n\n",
    "        if diff in dict_:\n",
    "            return [dict_[diff], i]\n",
    "        dict_[n] = i\n",
    "            \n",
    "\n",
    "nums = [2,7,11,15]\n",
    "target = 9\n",
    "print(twoSum(nums, target))"
   ]
  },
  {
   "cell_type": "markdown",
   "id": "3ed17690-41fe-4e53-80a3-0596026c03f9",
   "metadata": {
    "jp-MarkdownHeadingCollapsed": true
   },
   "source": [
    "### Palindrome Number\n",
    "https://leetcode.com/problems/palindrome-number"
   ]
  },
  {
   "cell_type": "code",
   "execution_count": 33,
   "id": "c12a3651-617d-4715-8f0f-d17d90e56013",
   "metadata": {},
   "outputs": [
    {
     "data": {
      "text/plain": [
       "True"
      ]
     },
     "execution_count": 33,
     "metadata": {},
     "output_type": "execute_result"
    }
   ],
   "source": [
    "def isPalindrome(x):\n",
    "    if x < 0:\n",
    "        return False\n",
    "    rev_num = 0\n",
    "    num = x\n",
    "    while num != 0:\n",
    "        remainder = num % 10\n",
    "        rev_num = 10 * rev_num + remainder\n",
    "        num = num // 10\n",
    "    return x == rev_num\n",
    "\n",
    "def isPalindrome_1(x):\n",
    "    if x < 0:\n",
    "        return False\n",
    "    return str(x) == str(x)[::-1]\n",
    "isPalindrome_1(121) "
   ]
  },
  {
   "cell_type": "markdown",
   "id": "09f23257-2e32-44de-8b22-15b867c2e913",
   "metadata": {},
   "source": [
    "### Longest Common Prefix\n",
    "https://leetcode.com/problems/longest-common-prefix"
   ]
  },
  {
   "cell_type": "code",
   "execution_count": 61,
   "id": "48dc2d34-abd5-4b1b-8a3f-72a494bb66c3",
   "metadata": {},
   "outputs": [
    {
     "name": "stdout",
     "output_type": "stream",
     "text": [
      "fl\n"
     ]
    }
   ],
   "source": [
    "def longestCommonPrefix(strs):\n",
    "    if not strs:\n",
    "        return False\n",
    "    prefix = strs[0]\n",
    "    pre = min(strs, key=len)\n",
    "    for s in strs[1:]:\n",
    "        while s.find(prefix) != 0:\n",
    "            prefix = prefix[:-1]\n",
    "            if not prefix:\n",
    "                return \"\"\n",
    "\n",
    "    # for i in strs:\n",
    "    #     while not i.startswith(pre):\n",
    "    #         pre = pre[:-1]\n",
    "                \n",
    "    return prefix\n",
    "    \n",
    "strs = [\"flower\",\"flow\",\"flight\"]\n",
    "print(longestCommonPrefix(strs))\n"
   ]
  },
  {
   "cell_type": "code",
   "execution_count": null,
   "id": "9f080619-f81d-4a82-8554-63d95a9abbc1",
   "metadata": {},
   "outputs": [],
   "source": []
  }
 ],
 "metadata": {
  "kernelspec": {
   "display_name": "Python 3 (ipykernel)",
   "language": "python",
   "name": "python3"
  },
  "language_info": {
   "codemirror_mode": {
    "name": "ipython",
    "version": 3
   },
   "file_extension": ".py",
   "mimetype": "text/x-python",
   "name": "python",
   "nbconvert_exporter": "python",
   "pygments_lexer": "ipython3",
   "version": "3.13.5"
  }
 },
 "nbformat": 4,
 "nbformat_minor": 5
}
