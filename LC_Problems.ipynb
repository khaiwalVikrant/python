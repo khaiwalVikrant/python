{
 "cells": [
  {
   "cell_type": "markdown",
   "id": "cf260468-99b1-4142-8b10-b96ceb50335e",
   "metadata": {},
   "source": [
    "### Easy Leet Code Problems with Python"
   ]
  },
  {
   "cell_type": "markdown",
   "id": "89fdb8bc-aebc-445f-8f6a-f02064e47ee9",
   "metadata": {
    "jp-MarkdownHeadingCollapsed": true
   },
   "source": [
    "#### **Largest Triangle Area**\n",
    "\n",
    "https://leetcode.com/problems/largest-triangle-area"
   ]
  },
  {
   "cell_type": "code",
   "execution_count": 1,
   "id": "a6a4b589-f3a6-413b-bdc6-51d657be032a",
   "metadata": {},
   "outputs": [],
   "source": [
    "input_ = [[0,0],[0,1],[1,0],[0,2],[2,0]]"
   ]
  },
  {
   "cell_type": "code",
   "execution_count": 2,
   "id": "04e0581e-7ccb-4daf-935c-95f73212ce34",
   "metadata": {},
   "outputs": [
    {
     "name": "stdout",
     "output_type": "stream",
     "text": [
      "2.0\n"
     ]
    }
   ],
   "source": [
    "largest_area = 0\n",
    "len_ = len(input_)\n",
    "\n",
    "for i in range(len_):\n",
    "    for j in range(i+1, len_):\n",
    "        for k in range(j+1, len_):\n",
    "            x1, y1 = input_[i]\n",
    "            x2, y2 = input_[j]\n",
    "            x3, y3 = input_[k]\n",
    "\n",
    "            calculated_area = 0.5 * abs(x1*(y2 - y3) + x2*(y3 - y1) + x3*(y1 - y2))\n",
    "            largest_area = max(largest_area, calculated_area)\n",
    "\n",
    "print(largest_area)"
   ]
  },
  {
   "cell_type": "markdown",
   "id": "9a607387-e12f-4ec9-bbd5-7909ae481e96",
   "metadata": {
    "jp-MarkdownHeadingCollapsed": true
   },
   "source": [
    "#### **Two Sum**\n",
    "https://leetcode.com/problems/two-sum"
   ]
  },
  {
   "cell_type": "code",
   "execution_count": 3,
   "id": "5b9ed9f9-a972-4ce2-b673-94326c234385",
   "metadata": {},
   "outputs": [
    {
     "name": "stdout",
     "output_type": "stream",
     "text": [
      "[0, 1]\n"
     ]
    }
   ],
   "source": [
    "def twoSum(nums, target):\n",
    "    dict_ = {}\n",
    "    for i, n in enumerate(nums):\n",
    "        diff = target - n\n",
    "        if diff in dict_:\n",
    "            return [dict_[diff], i]\n",
    "        dict_[n] = i\n",
    "            \n",
    "\n",
    "nums = [2,7,11,15]\n",
    "target = 9\n",
    "print(twoSum(nums, target))"
   ]
  },
  {
   "cell_type": "markdown",
   "id": "3ed17690-41fe-4e53-80a3-0596026c03f9",
   "metadata": {
    "jp-MarkdownHeadingCollapsed": true
   },
   "source": [
    "### Palindrome Number\n",
    "https://leetcode.com/problems/palindrome-number"
   ]
  },
  {
   "cell_type": "code",
   "execution_count": 4,
   "id": "c12a3651-617d-4715-8f0f-d17d90e56013",
   "metadata": {},
   "outputs": [
    {
     "data": {
      "text/plain": [
       "True"
      ]
     },
     "execution_count": 4,
     "metadata": {},
     "output_type": "execute_result"
    }
   ],
   "source": [
    "def isPalindrome(x):\n",
    "    if x < 0:\n",
    "        return False\n",
    "    rev_num = 0\n",
    "    num = x\n",
    "    while num != 0:\n",
    "        remainder = num % 10\n",
    "        rev_num = 10 * rev_num + remainder\n",
    "        num = num // 10\n",
    "    return x == rev_num\n",
    "\n",
    "def isPalindrome_1(x):\n",
    "    if x < 0:\n",
    "        return False\n",
    "    return str(x) == str(x)[::-1]\n",
    "isPalindrome_1(121) "
   ]
  },
  {
   "cell_type": "markdown",
   "id": "09f23257-2e32-44de-8b22-15b867c2e913",
   "metadata": {
    "jp-MarkdownHeadingCollapsed": true
   },
   "source": [
    "### Longest Common Prefix\n",
    "https://leetcode.com/problems/longest-common-prefix"
   ]
  },
  {
   "cell_type": "code",
   "execution_count": 5,
   "id": "48dc2d34-abd5-4b1b-8a3f-72a494bb66c3",
   "metadata": {
    "scrolled": true
   },
   "outputs": [
    {
     "name": "stdout",
     "output_type": "stream",
     "text": [
      "fl\n"
     ]
    }
   ],
   "source": [
    "def longestCommonPrefix(strs):\n",
    "    if not strs:\n",
    "        return False\n",
    "    prefix = strs[0]\n",
    "    pre = min(strs, key=len)\n",
    "    for s in strs[1:]:\n",
    "        while s.find(prefix) != 0:\n",
    "            prefix = prefix[:-1]\n",
    "            if not prefix:\n",
    "                return \"\"\n",
    "\n",
    "    # for i in strs:\n",
    "    #     while not i.startswith(pre):\n",
    "    #         pre = pre[:-1]\n",
    "                \n",
    "    return prefix\n",
    "    \n",
    "strs = [\"flower\",\"flow\",\"flight\"]\n",
    "print(longestCommonPrefix(strs))\n"
   ]
  },
  {
   "cell_type": "markdown",
   "id": "1915ac63-d6e7-4d52-815f-071e25e9f958",
   "metadata": {
    "jp-MarkdownHeadingCollapsed": true
   },
   "source": [
    "### Valid Parentheses\n",
    "\n",
    "https://leetcode.com/problems/valid-parentheses/description/"
   ]
  },
  {
   "cell_type": "code",
   "execution_count": 6,
   "id": "8a2c3aee-1cd2-4d4e-a4bb-869206e89d36",
   "metadata": {},
   "outputs": [],
   "source": [
    "from collections import deque\n",
    "def isValid(s):\n",
    "    stack = deque()\n",
    "    dict_ = {'[':']', '{':'}', '(':')'}\n",
    "    for str_ in s:\n",
    "        if str_ in dict_:\n",
    "            stack.append(str_) \n",
    "        elif len(stack) == 0 or dict_[stack.pop()] != str_:\n",
    "            return False\n",
    "           \n",
    "    return len(stack) == 0"
   ]
  },
  {
   "cell_type": "code",
   "execution_count": 7,
   "id": "3c21637e-3e99-4343-903d-92d01fee24a4",
   "metadata": {},
   "outputs": [
    {
     "data": {
      "text/plain": [
       "False"
      ]
     },
     "execution_count": 7,
     "metadata": {},
     "output_type": "execute_result"
    }
   ],
   "source": [
    "isValid(\"(}\")"
   ]
  },
  {
   "cell_type": "markdown",
   "id": "33cda473-228f-416d-bbab-f7cf628a3bbb",
   "metadata": {
    "jp-MarkdownHeadingCollapsed": true
   },
   "source": [
    "### Remove Duplicates from Sorted Array\n",
    "https://leetcode.com/problems/remove-duplicates-from-sorted-array/description/"
   ]
  },
  {
   "cell_type": "code",
   "execution_count": 8,
   "id": "c6fa2ed5-b4e0-4540-90e0-6f3712b737dc",
   "metadata": {},
   "outputs": [
    {
     "name": "stdout",
     "output_type": "stream",
     "text": [
      "[0, 1, 2, 3, 4, 2, 2, 3, 3, 4]\n"
     ]
    },
    {
     "data": {
      "text/plain": [
       "5"
      ]
     },
     "execution_count": 8,
     "metadata": {},
     "output_type": "execute_result"
    }
   ],
   "source": [
    "def removeDuplicates(nums):\n",
    "    k = 1\n",
    "    for i in range(1, len(nums)):\n",
    "        if nums[i] != nums[i-1]:\n",
    "            nums[k] = nums[i]\n",
    "            k+=1\n",
    "    print(nums)\n",
    "    return k\n",
    "    \n",
    "nums = [0,0,1,1,1,2,2,3,3,4]\n",
    "removeDuplicates(nums)"
   ]
  },
  {
   "cell_type": "code",
   "execution_count": 9,
   "id": "69025d6f-bf98-4b1d-b66a-dce2382967c3",
   "metadata": {},
   "outputs": [
    {
     "data": {
      "text/plain": [
       "3"
      ]
     },
     "execution_count": 9,
     "metadata": {},
     "output_type": "execute_result"
    }
   ],
   "source": [
    "def removeDuplicates_2(nums):\n",
    "    k = 1\n",
    "    while k < len(nums):\n",
    "        if nums[k] == nums[k-1]:\n",
    "            nums.pop(k)\n",
    "        else:\n",
    "            k += 1\n",
    "    return k\n",
    "    \n",
    "nums = [1,2,3]\n",
    "removeDuplicates_2(nums)"
   ]
  },
  {
   "cell_type": "markdown",
   "id": "5d5e5a41-df49-4133-a527-005e697e1d30",
   "metadata": {
    "jp-MarkdownHeadingCollapsed": true
   },
   "source": [
    "### Remove Element\n",
    "https://leetcode.com/problems/remove-element/description/"
   ]
  },
  {
   "cell_type": "code",
   "execution_count": 10,
   "id": "4120e997-bf8c-4140-923f-d00bcd22beea",
   "metadata": {},
   "outputs": [
    {
     "data": {
      "text/plain": [
       "5"
      ]
     },
     "execution_count": 10,
     "metadata": {},
     "output_type": "execute_result"
    }
   ],
   "source": [
    "def removeElement(nums, val):\n",
    "    i = 0\n",
    "    while i < len(nums):\n",
    "        if nums[i] != val:\n",
    "            i += 1\n",
    "        else:\n",
    "            nums.pop(i)\n",
    "    return i\n",
    "nums = [0,1,2,2,3,0,4,2]\n",
    "val = 2\n",
    "removeElement(nums, val)"
   ]
  },
  {
   "cell_type": "markdown",
   "id": "72b7003e-bd01-4823-b3c4-a11145dbf022",
   "metadata": {
    "jp-MarkdownHeadingCollapsed": true
   },
   "source": [
    "### Find the Index of the First Occurrence in a String\n",
    "https://leetcode.com/problems/find-the-index-of-the-first-occurrence-in-a-string/"
   ]
  },
  {
   "cell_type": "code",
   "execution_count": 11,
   "id": "ace3bcc1-0b8e-4bcd-930d-76381655e535",
   "metadata": {},
   "outputs": [
    {
     "name": "stdout",
     "output_type": "stream",
     "text": [
      "2\n"
     ]
    }
   ],
   "source": [
    "def strStr(haystack, needle):\n",
    "    for i in range((len(haystack) - len(needle))+1):\n",
    "        # if haystack.startswith(needle, i):\n",
    "        if haystack[i: i+len(needle)] == needle:\n",
    "            return i\n",
    "    return -1\n",
    "\n",
    "haystack = \"abc\"\n",
    "needle = \"c\"\n",
    "print(strStr(haystack, needle))"
   ]
  },
  {
   "cell_type": "markdown",
   "id": "583a3ced-78d4-4e6d-b6d9-be0d86383962",
   "metadata": {
    "jp-MarkdownHeadingCollapsed": true
   },
   "source": [
    "### Plus One\n",
    "\n",
    "https://leetcode.com/problems/plus-one/description/"
   ]
  },
  {
   "cell_type": "code",
   "execution_count": 12,
   "id": "e74c6d4f-4778-4be1-948c-daaa89c3874a",
   "metadata": {},
   "outputs": [
    {
     "name": "stdout",
     "output_type": "stream",
     "text": [
      "[9, 0]\n"
     ]
    }
   ],
   "source": [
    "def plusOne(digits):\n",
    "    for i in range(len(digits)-1, -1, -1):\n",
    "        if digits[i] == 9:\n",
    "            digits[i] = 0\n",
    "        else:\n",
    "            digits[i] = digits[i] + 1   \n",
    "            return digits\n",
    "    return [1] + digits\n",
    "\n",
    "i_list = [8, 9]\n",
    "print(plusOne(i_list))"
   ]
  },
  {
   "cell_type": "markdown",
   "id": "721a36ee-80f9-4acb-aea2-354bb912153a",
   "metadata": {
    "jp-MarkdownHeadingCollapsed": true
   },
   "source": [
    "### Sqrt(x)\n",
    "https://leetcode.com/problems/sqrtx"
   ]
  },
  {
   "cell_type": "code",
   "execution_count": 13,
   "id": "ab287796-08e1-4329-a212-79b63e119090",
   "metadata": {},
   "outputs": [
    {
     "name": "stdout",
     "output_type": "stream",
     "text": [
      "4\n"
     ]
    }
   ],
   "source": [
    "def mySqrt(x):\n",
    "    left, right = 1, x\n",
    "    while left <= right:\n",
    "        mid =  (right+left) // 2\n",
    "        if mid * mid == x:\n",
    "            return mid\n",
    "        elif mid * mid < x:\n",
    "            left = mid + 1\n",
    "        else:\n",
    "            right = mid - 1\n",
    "    return right\n",
    "    \n",
    "print(mySqrt(16))"
   ]
  },
  {
   "cell_type": "markdown",
   "id": "70421273-05f3-4377-8a91-ed0f60fc1dc3",
   "metadata": {},
   "source": [
    "### Climbing Stairs\n",
    "https://leetcode.com/problems/climbing-stairs"
   ]
  },
  {
   "cell_type": "markdown",
   "id": "d3ba7e79-39e9-482b-8b24-a2d295643eec",
   "metadata": {},
   "source": [
    "### Merge Sorted Array\n",
    "https://leetcode.com/problems/merge-sorted-array/description/"
   ]
  },
  {
   "cell_type": "code",
   "execution_count": 14,
   "id": "fc887406-402f-4e76-a016-0f3fe419d734",
   "metadata": {},
   "outputs": [
    {
     "name": "stdout",
     "output_type": "stream",
     "text": [
      "[1, 2, 3, 4, 5, 6]\n"
     ]
    }
   ],
   "source": [
    "def merge(nums1, m, nums2, n):\n",
    "    # m and n both hold the last index of num1 and num2\n",
    "    lastIndex = m+n-1\n",
    "    while m > 0 and n > 0:\n",
    "        # print(lastIndex, m ,n)\n",
    "        if nums1[m-1] > nums2[n-1]:\n",
    "            nums1[lastIndex] = nums1[m-1]\n",
    "            m -= 1\n",
    "        else:\n",
    "            nums1[lastIndex] = nums2[n-1]\n",
    "            n -= 1\n",
    "        lastIndex -= 1\n",
    "    while n > 0:\n",
    "        nums1[lastIndex] = nums2[n-1]\n",
    "        n -= 1\n",
    "        lastIndex -= 1\n",
    "    print(nums1)\n",
    "nums1 = [4,5,6,0,0,0]\n",
    "m = 3\n",
    "nums2 = [1,2,3]\n",
    "n = 3\n",
    "merge(nums1, m, nums2, n)"
   ]
  },
  {
   "cell_type": "code",
   "execution_count": null,
   "id": "5c3cb05e-ebc4-4b34-ad08-5a9531bcec67",
   "metadata": {},
   "outputs": [],
   "source": []
  },
  {
   "cell_type": "markdown",
   "id": "2a132185-96fd-4ed5-8fe5-056db939fbfd",
   "metadata": {
    "jp-MarkdownHeadingCollapsed": true
   },
   "source": [
    "### Best time to buy and sell stock\n",
    "https://leetcode.com/problems/best-time-to-buy-and-sell-stock/description/"
   ]
  },
  {
   "cell_type": "code",
   "execution_count": 15,
   "id": "e2648407-90aa-43a0-9127-81414cf2b156",
   "metadata": {},
   "outputs": [
    {
     "name": "stdout",
     "output_type": "stream",
     "text": [
      "5\n"
     ]
    }
   ],
   "source": [
    "def maxProfit(prices):\n",
    "    if len(prices) <= 1:\n",
    "        return 0\n",
    "        \n",
    "    maxProfit = 0\n",
    "    min_ = prices[0]\n",
    "    for n in prices[1:]:\n",
    "        if n < min_:\n",
    "            min_ = n\n",
    "        maxProfit = max(maxProfit, n - min_)\n",
    "    return maxProfit\n",
    "        \n",
    "prices = [7,1,5,3,6,4]\n",
    "print(maxProfit(prices))"
   ]
  },
  {
   "cell_type": "markdown",
   "id": "365b578c-c98e-42f1-bc93-fc9bc66ececb",
   "metadata": {
    "jp-MarkdownHeadingCollapsed": true
   },
   "source": [
    "### Valid Palindrome\n",
    "https://leetcode.com/problems/valid-palindrome/description/"
   ]
  },
  {
   "cell_type": "code",
   "execution_count": 16,
   "id": "06bdd1d8-11a1-4767-92c4-2f2863dad754",
   "metadata": {},
   "outputs": [
    {
     "name": "stdout",
     "output_type": "stream",
     "text": [
      "False\n"
     ]
    }
   ],
   "source": [
    "def isPalindrome(s):\n",
    "    l, r = 0, len(s)-1\n",
    "    while l < r:\n",
    "            while l < r and not s[l].isalnum():\n",
    "                l += 1\n",
    "            while l < r and not s[r].isalnum():\n",
    "                r -= 1\n",
    "            if  s[l].lower() != s[r].lower():\n",
    "                return False\n",
    "                \n",
    "            l, r = l + 1, r - 1\n",
    "    return True\n",
    "        \n",
    "str_ = \"0P\"\n",
    "print(isPalindrome(str_))"
   ]
  },
  {
   "cell_type": "markdown",
   "id": "cfe8dfb1-d4ea-402d-b148-3b97176e0b07",
   "metadata": {
    "jp-MarkdownHeadingCollapsed": true
   },
   "source": [
    "### Excel Sheet Column Number\n",
    "https://leetcode.com/problems/excel-sheet-column-number/solutions/"
   ]
  },
  {
   "cell_type": "code",
   "execution_count": 17,
   "id": "37a04e13-746c-4e53-8e79-76e45852af22",
   "metadata": {},
   "outputs": [
    {
     "name": "stdout",
     "output_type": "stream",
     "text": [
      "701\n"
     ]
    }
   ],
   "source": [
    "def titleToNumber(columnTitle):\n",
    "    res = 0\n",
    "    for c in columnTitle:\n",
    "        res = res*26 + (ord(c) - ord('A') + 1)\n",
    "    return res\n",
    "print(titleToNumber(\"ZY\"))\n",
    "#this problem similar to convert binary number to decimal"
   ]
  },
  {
   "cell_type": "markdown",
   "id": "f2b2a5b3-3845-42c7-98c8-01b848a1f259",
   "metadata": {
    "jp-MarkdownHeadingCollapsed": true
   },
   "source": [
    "### Happy Number\n",
    "https://leetcode.com/problems/happy-number/"
   ]
  },
  {
   "cell_type": "code",
   "execution_count": 18,
   "id": "a8264fa1-be89-43f7-a006-8805d540365d",
   "metadata": {},
   "outputs": [
    {
     "name": "stdout",
     "output_type": "stream",
     "text": [
      "True\n"
     ]
    }
   ],
   "source": [
    "def isHappy(n):\n",
    "    set_ = set()\n",
    "    while n not in set_:\n",
    "        set_.add(n)\n",
    "        n = sum_of_square_digits(n)\n",
    "        if n == 1:\n",
    "            return True\n",
    "    return False\n",
    "        \n",
    "\n",
    "def sum_of_square_digits(n):\n",
    "    output = 0\n",
    "    while n: # n is not 0 similar to n > 0\n",
    "        digit = n % 10\n",
    "        digit = digit ** 2\n",
    "        output += digit\n",
    "        n = n // 10\n",
    "    return output\n",
    "\n",
    "print(isHappy(19))"
   ]
  },
  {
   "cell_type": "markdown",
   "id": "7e14a789-c939-4f62-8017-4dbffc15f538",
   "metadata": {},
   "source": [
    "### Isomorphic String\n",
    "https://leetcode.com/problems/isomorphic-strings/"
   ]
  },
  {
   "cell_type": "code",
   "execution_count": 19,
   "id": "28096c14-6251-4a87-b547-022a7808ac95",
   "metadata": {},
   "outputs": [
    {
     "data": {
      "text/plain": [
       "True"
      ]
     },
     "execution_count": 19,
     "metadata": {},
     "output_type": "execute_result"
    }
   ],
   "source": [
    "def isIsomorphic(s, t):\n",
    "    if len(s) != len(t):\n",
    "        return False\n",
    "        \n",
    "    dict_s_to_t = {}\n",
    "    dict_t_to_s = {}\n",
    "    for i in range(len(s)):\n",
    "        if s[i] in dict_s_to_t and dict_s_to_t[s[i]] != t[i]:\n",
    "            return False\n",
    "        if t[i] in dict_t_to_s and dict_t_to_s[t[i]] != s[i]:\n",
    "            return False\n",
    "            \n",
    "        dict_s_to_t[s[i]] = t[i]\n",
    "        dict_t_to_s[t[i]] = s[i]\n",
    "        \n",
    "    return True\n",
    "    \n",
    "isIsomorphic(\"odd\", \"egg\")"
   ]
  },
  {
   "cell_type": "markdown",
   "id": "c33b5d9e-5b32-48e3-b15f-db136a3ff2c1",
   "metadata": {},
   "source": [
    "### Score of a String\n",
    "https://leetcode.com/problems/score-of-a-string/description/"
   ]
  },
  {
   "cell_type": "code",
   "execution_count": 20,
   "id": "b2130216-c3cd-4952-b41e-d6fd8ce9c656",
   "metadata": {},
   "outputs": [
    {
     "name": "stdout",
     "output_type": "stream",
     "text": [
      "50\n"
     ]
    }
   ],
   "source": [
    "def scoreOfString(s):\n",
    "    score = 0\n",
    "    for i in range(len(s)-1):\n",
    "        score += abs(ord(s[i]) - ord(s[i+1]))\n",
    "    return score\n",
    "print(scoreOfString(\"zaz\"))"
   ]
  },
  {
   "cell_type": "markdown",
   "id": "c56b520e-84f6-40f1-a88e-237b2da3fc2d",
   "metadata": {},
   "source": [
    "### Concatenation of array\n",
    "https://leetcode.com/problems/concatenation-of-array/description/"
   ]
  },
  {
   "cell_type": "code",
   "execution_count": 21,
   "id": "348e01b4-3b4c-4f07-b8c4-66f990427b1e",
   "metadata": {},
   "outputs": [
    {
     "name": "stdout",
     "output_type": "stream",
     "text": [
      "[1, 2, 3, 1, 2, 3]\n"
     ]
    }
   ],
   "source": [
    "def getConcatenation(nums):\n",
    "    ans = [0] * (2*len(nums))\n",
    "    for i in range(len(ans)):\n",
    "        ans[i] = nums[i-len(nums)]\n",
    "    return ans\n",
    "a = [1,2,3]  \n",
    "print(getConcatenation(a))"
   ]
  },
  {
   "cell_type": "markdown",
   "id": "177b44fd-ce01-45e6-b011-7d80d6764218",
   "metadata": {},
   "source": [
    "### Contains duplicate\n",
    "https://leetcode.com/problems/contains-duplicate/"
   ]
  },
  {
   "cell_type": "code",
   "execution_count": 22,
   "id": "cb319a4f-28be-436c-ba5d-eb250d01abda",
   "metadata": {},
   "outputs": [
    {
     "name": "stdout",
     "output_type": "stream",
     "text": [
      "True\n"
     ]
    }
   ],
   "source": [
    "def containsDuplicate(nums):\n",
    "    set_ = set()\n",
    "    for n in nums:\n",
    "        if n in set_:\n",
    "            return True\n",
    "        set_.add(n)\n",
    "    return False\n",
    "nums = [1,2,3,1]\n",
    "print(containsDuplicate(nums))"
   ]
  },
  {
   "cell_type": "code",
   "execution_count": null,
   "id": "e5a26374-d82f-4320-963a-99facfd99e4a",
   "metadata": {},
   "outputs": [],
   "source": []
  },
  {
   "cell_type": "code",
   "execution_count": null,
   "id": "41c1eb2c-710e-48a3-83fc-f7bcb586ba54",
   "metadata": {},
   "outputs": [],
   "source": []
  },
  {
   "cell_type": "code",
   "execution_count": null,
   "id": "df11271f-0e09-4538-9725-f993a1165df8",
   "metadata": {},
   "outputs": [],
   "source": []
  },
  {
   "cell_type": "code",
   "execution_count": null,
   "id": "9a47ee6d-7336-43ae-b490-6f2450322069",
   "metadata": {},
   "outputs": [],
   "source": []
  },
  {
   "cell_type": "code",
   "execution_count": null,
   "id": "f68054bc-4dd8-4f4e-9a72-cbfd81833f5b",
   "metadata": {},
   "outputs": [],
   "source": []
  },
  {
   "cell_type": "code",
   "execution_count": null,
   "id": "66aeb4d1-cea4-4c1a-941a-de73bc2fd06d",
   "metadata": {},
   "outputs": [],
   "source": []
  },
  {
   "cell_type": "markdown",
   "id": "dbece728-f6e4-44db-ab7b-5d8f85dc72fc",
   "metadata": {},
   "source": [
    "### Linked List\n"
   ]
  },
  {
   "cell_type": "markdown",
   "id": "26fc2f1e-2041-4393-b33f-bd5c94c4188f",
   "metadata": {},
   "source": [
    "### Merge Two Sorted Lists\n",
    "https://leetcode.com/problems/merge-two-sorted-lists/description/"
   ]
  },
  {
   "cell_type": "code",
   "execution_count": null,
   "id": "e1b66202-a641-41cd-8543-73d18c764764",
   "metadata": {},
   "outputs": [],
   "source": []
  }
 ],
 "metadata": {
  "kernelspec": {
   "display_name": "Python 3 (ipykernel)",
   "language": "python",
   "name": "python3"
  },
  "language_info": {
   "codemirror_mode": {
    "name": "ipython",
    "version": 3
   },
   "file_extension": ".py",
   "mimetype": "text/x-python",
   "name": "python",
   "nbconvert_exporter": "python",
   "pygments_lexer": "ipython3",
   "version": "3.13.5"
  }
 },
 "nbformat": 4,
 "nbformat_minor": 5
}
