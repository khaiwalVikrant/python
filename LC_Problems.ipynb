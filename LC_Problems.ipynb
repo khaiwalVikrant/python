{
 "cells": [
  {
   "cell_type": "markdown",
   "id": "cf260468-99b1-4142-8b10-b96ceb50335e",
   "metadata": {},
   "source": [
    "### Easy Leet Code Problems with Python"
   ]
  },
  {
   "cell_type": "markdown",
   "id": "89fdb8bc-aebc-445f-8f6a-f02064e47ee9",
   "metadata": {
    "jp-MarkdownHeadingCollapsed": true
   },
   "source": [
    "#### **Largest Triangle Area**\n",
    "\n",
    "https://leetcode.com/problems/largest-triangle-area"
   ]
  },
  {
   "cell_type": "code",
   "execution_count": 1,
   "id": "a6a4b589-f3a6-413b-bdc6-51d657be032a",
   "metadata": {},
   "outputs": [],
   "source": [
    "input_ = [[0,0],[0,1],[1,0],[0,2],[2,0]]"
   ]
  },
  {
   "cell_type": "code",
   "execution_count": 2,
   "id": "04e0581e-7ccb-4daf-935c-95f73212ce34",
   "metadata": {},
   "outputs": [
    {
     "name": "stdout",
     "output_type": "stream",
     "text": [
      "2.0\n"
     ]
    }
   ],
   "source": [
    "largest_area = 0\n",
    "len_ = len(input_)\n",
    "\n",
    "for i in range(len_):\n",
    "    for j in range(i+1, len_):\n",
    "        for k in range(j+1, len_):\n",
    "            x1, y1 = input_[i]\n",
    "            x2, y2 = input_[j]\n",
    "            x3, y3 = input_[k]\n",
    "\n",
    "            calculated_area = 0.5 * abs(x1*(y2 - y3) + x2*(y3 - y1) + x3*(y1 - y2))\n",
    "            largest_area = max(largest_area, calculated_area)\n",
    "\n",
    "print(largest_area)"
   ]
  },
  {
   "cell_type": "markdown",
   "id": "9a607387-e12f-4ec9-bbd5-7909ae481e96",
   "metadata": {
    "jp-MarkdownHeadingCollapsed": true
   },
   "source": [
    "#### **Two Sum**\n",
    "https://leetcode.com/problems/two-sum"
   ]
  },
  {
   "cell_type": "code",
   "execution_count": 3,
   "id": "5b9ed9f9-a972-4ce2-b673-94326c234385",
   "metadata": {},
   "outputs": [
    {
     "name": "stdout",
     "output_type": "stream",
     "text": [
      "[0, 1]\n"
     ]
    }
   ],
   "source": [
    "def twoSum(nums, target):\n",
    "    dict_ = {}\n",
    "    for i, n in enumerate(nums):\n",
    "        diff = target - n\n",
    "        if diff in dict_:\n",
    "            return [dict_[diff], i]\n",
    "        dict_[n] = i\n",
    "            \n",
    "\n",
    "nums = [2,7,11,15]\n",
    "target = 9\n",
    "print(twoSum(nums, target))"
   ]
  },
  {
   "cell_type": "markdown",
   "id": "3ed17690-41fe-4e53-80a3-0596026c03f9",
   "metadata": {
    "jp-MarkdownHeadingCollapsed": true
   },
   "source": [
    "### Palindrome Number\n",
    "https://leetcode.com/problems/palindrome-number"
   ]
  },
  {
   "cell_type": "code",
   "execution_count": 4,
   "id": "c12a3651-617d-4715-8f0f-d17d90e56013",
   "metadata": {},
   "outputs": [
    {
     "data": {
      "text/plain": [
       "True"
      ]
     },
     "execution_count": 4,
     "metadata": {},
     "output_type": "execute_result"
    }
   ],
   "source": [
    "def isPalindrome(x):\n",
    "    if x < 0:\n",
    "        return False\n",
    "    rev_num = 0\n",
    "    num = x\n",
    "    while num != 0:\n",
    "        remainder = num % 10\n",
    "        rev_num = 10 * rev_num + remainder\n",
    "        num = num // 10\n",
    "    return x == rev_num\n",
    "\n",
    "def isPalindrome_1(x):\n",
    "    if x < 0:\n",
    "        return False\n",
    "    return str(x) == str(x)[::-1]\n",
    "isPalindrome_1(121) "
   ]
  },
  {
   "cell_type": "markdown",
   "id": "09f23257-2e32-44de-8b22-15b867c2e913",
   "metadata": {
    "jp-MarkdownHeadingCollapsed": true
   },
   "source": [
    "### Longest Common Prefix\n",
    "https://leetcode.com/problems/longest-common-prefix"
   ]
  },
  {
   "cell_type": "code",
   "execution_count": 5,
   "id": "48dc2d34-abd5-4b1b-8a3f-72a494bb66c3",
   "metadata": {
    "scrolled": true
   },
   "outputs": [
    {
     "name": "stdout",
     "output_type": "stream",
     "text": [
      "fl\n"
     ]
    }
   ],
   "source": [
    "def longestCommonPrefix(strs):\n",
    "    if not strs:\n",
    "        return False\n",
    "    prefix = strs[0]\n",
    "    pre = min(strs, key=len)\n",
    "    for s in strs[1:]:\n",
    "        while s.find(prefix) != 0:\n",
    "            prefix = prefix[:-1]\n",
    "            if not prefix:\n",
    "                return \"\"\n",
    "\n",
    "    # for i in strs:\n",
    "    #     while not i.startswith(pre):\n",
    "    #         pre = pre[:-1]\n",
    "                \n",
    "    return prefix\n",
    "    \n",
    "strs = [\"flower\",\"flow\",\"flight\"]\n",
    "print(longestCommonPrefix(strs))\n"
   ]
  },
  {
   "cell_type": "markdown",
   "id": "1915ac63-d6e7-4d52-815f-071e25e9f958",
   "metadata": {
    "jp-MarkdownHeadingCollapsed": true
   },
   "source": [
    "### Valid Parentheses\n",
    "\n",
    "https://leetcode.com/problems/valid-parentheses/description/"
   ]
  },
  {
   "cell_type": "code",
   "execution_count": 6,
   "id": "8a2c3aee-1cd2-4d4e-a4bb-869206e89d36",
   "metadata": {},
   "outputs": [],
   "source": [
    "from collections import deque\n",
    "def isValid(s):\n",
    "    stack = deque()\n",
    "    dict_ = {'[':']', '{':'}', '(':')'}\n",
    "    for str_ in s:\n",
    "        if str_ in dict_:\n",
    "            stack.append(str_) \n",
    "        elif len(stack) == 0 or dict_[stack.pop()] != str_:\n",
    "            return False\n",
    "           \n",
    "    return len(stack) == 0"
   ]
  },
  {
   "cell_type": "code",
   "execution_count": 7,
   "id": "3c21637e-3e99-4343-903d-92d01fee24a4",
   "metadata": {},
   "outputs": [
    {
     "data": {
      "text/plain": [
       "False"
      ]
     },
     "execution_count": 7,
     "metadata": {},
     "output_type": "execute_result"
    }
   ],
   "source": [
    "isValid(\"(}\")"
   ]
  },
  {
   "cell_type": "markdown",
   "id": "33cda473-228f-416d-bbab-f7cf628a3bbb",
   "metadata": {
    "jp-MarkdownHeadingCollapsed": true
   },
   "source": [
    "### Remove Duplicates from Sorted Array\n",
    "https://leetcode.com/problems/remove-duplicates-from-sorted-array/description/"
   ]
  },
  {
   "cell_type": "code",
   "execution_count": 8,
   "id": "c6fa2ed5-b4e0-4540-90e0-6f3712b737dc",
   "metadata": {},
   "outputs": [
    {
     "name": "stdout",
     "output_type": "stream",
     "text": [
      "[0, 1, 2, 3, 4, 2, 2, 3, 3, 4]\n"
     ]
    },
    {
     "data": {
      "text/plain": [
       "5"
      ]
     },
     "execution_count": 8,
     "metadata": {},
     "output_type": "execute_result"
    }
   ],
   "source": [
    "def removeDuplicates(nums):\n",
    "    k = 1\n",
    "    for i in range(1, len(nums)):\n",
    "        if nums[i] != nums[i-1]:\n",
    "            nums[k] = nums[i]\n",
    "            k+=1\n",
    "    print(nums)\n",
    "    return k\n",
    "    \n",
    "nums = [0,0,1,1,1,2,2,3,3,4]\n",
    "removeDuplicates(nums)"
   ]
  },
  {
   "cell_type": "code",
   "execution_count": 9,
   "id": "69025d6f-bf98-4b1d-b66a-dce2382967c3",
   "metadata": {},
   "outputs": [
    {
     "data": {
      "text/plain": [
       "3"
      ]
     },
     "execution_count": 9,
     "metadata": {},
     "output_type": "execute_result"
    }
   ],
   "source": [
    "def removeDuplicates_2(nums):\n",
    "    k = 1\n",
    "    while k < len(nums):\n",
    "        if nums[k] == nums[k-1]:\n",
    "            nums.pop(k)\n",
    "        else:\n",
    "            k += 1\n",
    "    return k\n",
    "    \n",
    "nums = [1,2,3]\n",
    "removeDuplicates_2(nums)"
   ]
  },
  {
   "cell_type": "markdown",
   "id": "5d5e5a41-df49-4133-a527-005e697e1d30",
   "metadata": {
    "jp-MarkdownHeadingCollapsed": true
   },
   "source": [
    "### Remove Element\n",
    "https://leetcode.com/problems/remove-element/description/"
   ]
  },
  {
   "cell_type": "code",
   "execution_count": 10,
   "id": "4120e997-bf8c-4140-923f-d00bcd22beea",
   "metadata": {},
   "outputs": [
    {
     "data": {
      "text/plain": [
       "5"
      ]
     },
     "execution_count": 10,
     "metadata": {},
     "output_type": "execute_result"
    }
   ],
   "source": [
    "def removeElement(nums, val):\n",
    "    i = 0\n",
    "    while i < len(nums):\n",
    "        if nums[i] != val:\n",
    "            i += 1\n",
    "        else:\n",
    "            nums.pop(i)\n",
    "    return i\n",
    "nums = [0,1,2,2,3,0,4,2]\n",
    "val = 2\n",
    "removeElement(nums, val)"
   ]
  },
  {
   "cell_type": "markdown",
   "id": "72b7003e-bd01-4823-b3c4-a11145dbf022",
   "metadata": {
    "jp-MarkdownHeadingCollapsed": true
   },
   "source": [
    "### Find the Index of the First Occurrence in a String\n",
    "https://leetcode.com/problems/find-the-index-of-the-first-occurrence-in-a-string/"
   ]
  },
  {
   "cell_type": "code",
   "execution_count": 11,
   "id": "ace3bcc1-0b8e-4bcd-930d-76381655e535",
   "metadata": {},
   "outputs": [
    {
     "name": "stdout",
     "output_type": "stream",
     "text": [
      "2\n"
     ]
    }
   ],
   "source": [
    "def strStr(haystack, needle):\n",
    "    for i in range((len(haystack) - len(needle))+1):\n",
    "        # if haystack.startswith(needle, i):\n",
    "        if haystack[i: i+len(needle)] == needle:\n",
    "            return i\n",
    "    return -1\n",
    "\n",
    "haystack = \"abc\"\n",
    "needle = \"c\"\n",
    "print(strStr(haystack, needle))"
   ]
  },
  {
   "cell_type": "markdown",
   "id": "583a3ced-78d4-4e6d-b6d9-be0d86383962",
   "metadata": {
    "jp-MarkdownHeadingCollapsed": true
   },
   "source": [
    "### Plus One\n",
    "\n",
    "https://leetcode.com/problems/plus-one/description/"
   ]
  },
  {
   "cell_type": "code",
   "execution_count": 12,
   "id": "e74c6d4f-4778-4be1-948c-daaa89c3874a",
   "metadata": {},
   "outputs": [
    {
     "name": "stdout",
     "output_type": "stream",
     "text": [
      "[9, 0]\n"
     ]
    }
   ],
   "source": [
    "def plusOne(digits):\n",
    "    for i in range(len(digits)-1, -1, -1):\n",
    "        if digits[i] == 9:\n",
    "            digits[i] = 0\n",
    "        else:\n",
    "            digits[i] = digits[i] + 1   \n",
    "            return digits\n",
    "    return [1] + digits\n",
    "\n",
    "i_list = [8, 9]\n",
    "print(plusOne(i_list))"
   ]
  },
  {
   "cell_type": "markdown",
   "id": "721a36ee-80f9-4acb-aea2-354bb912153a",
   "metadata": {
    "jp-MarkdownHeadingCollapsed": true
   },
   "source": [
    "### Sqrt(x)\n",
    "https://leetcode.com/problems/sqrtx"
   ]
  },
  {
   "cell_type": "code",
   "execution_count": 17,
   "id": "ab287796-08e1-4329-a212-79b63e119090",
   "metadata": {},
   "outputs": [
    {
     "name": "stdout",
     "output_type": "stream",
     "text": [
      "4\n"
     ]
    }
   ],
   "source": [
    "def mySqrt(x):\n",
    "    left, right = 1, x\n",
    "    while left <= right:\n",
    "        mid =  (right+left) // 2\n",
    "        if mid * mid == x:\n",
    "            return mid\n",
    "        elif mid * mid < x:\n",
    "            left = mid + 1\n",
    "        else:\n",
    "            right = mid - 1\n",
    "    return right\n",
    "    \n",
    "print(mySqrt(16))"
   ]
  },
  {
   "cell_type": "markdown",
   "id": "70421273-05f3-4377-8a91-ed0f60fc1dc3",
   "metadata": {},
   "source": [
    "### Climbing Stairs\n",
    "https://leetcode.com/problems/climbing-stairs"
   ]
  },
  {
   "cell_type": "code",
   "execution_count": null,
   "id": "9a6d24df-57ad-4d77-a2a5-2a8649288ea4",
   "metadata": {},
   "outputs": [],
   "source": []
  },
  {
   "cell_type": "markdown",
   "id": "dbece728-f6e4-44db-ab7b-5d8f85dc72fc",
   "metadata": {},
   "source": [
    "### Linked List\n"
   ]
  },
  {
   "cell_type": "markdown",
   "id": "26fc2f1e-2041-4393-b33f-bd5c94c4188f",
   "metadata": {},
   "source": [
    "### Merge Two Sorted Lists\n",
    "https://leetcode.com/problems/merge-two-sorted-lists/description/"
   ]
  },
  {
   "cell_type": "code",
   "execution_count": null,
   "id": "e1b66202-a641-41cd-8543-73d18c764764",
   "metadata": {},
   "outputs": [],
   "source": []
  }
 ],
 "metadata": {
  "kernelspec": {
   "display_name": "Python 3 (ipykernel)",
   "language": "python",
   "name": "python3"
  },
  "language_info": {
   "codemirror_mode": {
    "name": "ipython",
    "version": 3
   },
   "file_extension": ".py",
   "mimetype": "text/x-python",
   "name": "python",
   "nbconvert_exporter": "python",
   "pygments_lexer": "ipython3",
   "version": "3.13.5"
  }
 },
 "nbformat": 4,
 "nbformat_minor": 5
}
