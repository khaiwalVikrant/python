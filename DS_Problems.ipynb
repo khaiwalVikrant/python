{
 "cells": [
  {
   "cell_type": "markdown",
   "id": "bc856fa4-61d3-46a7-a494-42cd1deae25d",
   "metadata": {},
   "source": [
    "Q1 : Description Sometimes the data has few duplicate values which will affect the analysis done. In this problem, you will be given a list. You have to find and delete the duplicates and print the updated list with no duplicates.\n",
    "\n",
    "Input: A list of integers.\n",
    "\n",
    "Output: A list of integers, with duplicates removed if any.\n",
    "\n",
    "Sample input: [8, 9, 2, 2, 3, 4, 5, 2]\n",
    "\n",
    "Sample output: [8, 9, 2, 3, 4, 5]\n",
    "\n",
    "Sample input: [4, 4, 4, 4]\n",
    "\n",
    "Sample output: [4]\n",
    "\n",
    "Note the order of the data did not change in input and output."
   ]
  },
  {
   "cell_type": "code",
   "execution_count": 1,
   "id": "3b29de5e-9073-4708-ac83-e29e71dbd430",
   "metadata": {},
   "outputs": [
    {
     "data": {
      "text/plain": [
       "[8, 9, 2, 3, 4, 5]"
      ]
     },
     "execution_count": 1,
     "metadata": {},
     "output_type": "execute_result"
    }
   ],
   "source": [
    "input_ = [8, 9, 2, 2, 3, 4, 5, 2]\n",
    "set_ = set()\n",
    "result = []\n",
    "\n",
    "for i in input_:\n",
    "    if i not in set_:\n",
    "        set_.add(i)\n",
    "        result.append(i)\n",
    "result"
   ]
  },
  {
   "cell_type": "markdown",
   "id": "b39eb0e7-a629-483a-b96c-f20eee1fc3e5",
   "metadata": {},
   "source": [
    "Q2 : You will be converting a dictionary, of string(keys) and list of string (values), to a list of strings. Please check the sample input/output for clarification.\n",
    "\n",
    "Input: A dictionary with keys as strings and values as a list of strings.\n",
    "\n",
    "Output: A list of strings\n",
    "\n",
    "Sample input: {‘Mobile’: [‘Redmi’, ‘Samsung’, ‘Realme’], ‘Laptop’: [‘Dell’, ‘HP’], ‘TV’: [‘Videocon’, ‘Sony’] }\n",
    "\n",
    "Sample output: [‘Mobile_Redmi’, ‘Mobile_Samsung’, ‘Mobile_Realme’, ‘Laptop_Dell’, ‘Laptop_HP’, ‘TV_Videocon’, ‘TV_Sony’]\n",
    "\n",
    "Sample input: { 'Pen': ['Gel', 'Ink', 'ball'], 'Mobile': ['Android', 'apple'] }\n",
    "\n",
    "Sample output: ['Pen_Gel', 'Pen_Ink', 'Pen_ball', 'Mobile_Android', 'Mobile_apple']"
   ]
  },
  {
   "cell_type": "code",
   "execution_count": 2,
   "id": "e2024eb8-be76-4a87-8e51-205c00ebb0ee",
   "metadata": {},
   "outputs": [
    {
     "data": {
      "text/plain": [
       "['Mobile_Redmi',\n",
       " 'Mobile_Samsung',\n",
       " 'Mobile_Realme',\n",
       " 'Laptop_Dell',\n",
       " 'Laptop_HP',\n",
       " 'TV_Videocon',\n",
       " 'TV_Sony']"
      ]
     },
     "execution_count": 2,
     "metadata": {},
     "output_type": "execute_result"
    }
   ],
   "source": [
    "input_ = {\"Mobile\": [\"Redmi\", \"Samsung\", \"Realme\"], \"Laptop\": [\"Dell\", \"HP\"], \"TV\": [\"Videocon\", \"Sony\"] }\n",
    "\n",
    "result = []\n",
    "\n",
    "for key, value in input_.items():\n",
    "    for v in value:\n",
    "        result.append(key + \"_\" + v)\n",
    "result"
   ]
  },
  {
   "cell_type": "markdown",
   "id": "c51fd508-52fc-4e59-b222-d4950954a079",
   "metadata": {},
   "source": [
    "Q3 : Description\n",
    "\n",
    "List item\n",
    "List item\n",
    "You will be given a string with a lot of brackets. You have to print if the brackets are balanced or not. Remember, there are three types of brackets: ‘( )’, ‘{ }’ and ‘[ ]’.\n",
    "\n",
    "Input: A string\n",
    "\n",
    "Output: Yes, if the brackets are balanced. No otherwise."
   ]
  },
  {
   "cell_type": "code",
   "execution_count": 12,
   "id": "70e45694-4743-4d63-a0f7-0c9c68faceeb",
   "metadata": {},
   "outputs": [
    {
     "name": "stdout",
     "output_type": "stream",
     "text": [
      "Yes\n"
     ]
    }
   ],
   "source": [
    "input_1 = \"[[{()}]]\"\n",
    "\n",
    "counter = 0\n",
    "\n",
    "for e in range(len(input_1)):\n",
    "    if input_1[e] == \"[\" or input_1[e] == \"{\" or input_1[e] == \"(\":\n",
    "        counter+=1\n",
    "    else:\n",
    "        counter-=1\n",
    "\n",
    "if counter == 0:\n",
    "    print(\"Yes\")\n",
    "else:\n",
    "    print(\"No\")"
   ]
  },
  {
   "cell_type": "markdown",
   "id": "6f5a43f3-1bce-45c0-ab3c-f9141b068c39",
   "metadata": {},
   "source": [
    "Q4 You will be given a dictionary with keys as items and values as their prices. You have to print the cheapest item.\n",
    "\n",
    "Sample input: A single line non-empty dictionary\n",
    "\n",
    "Sample output: cheapest_item name: cheapest_item_cost\n",
    "\n",
    "Sample input: {'mobile1':10000, 'mobile2':11000, 'mobile3':13000, 'mobile4':9000, 'mobile5':15000, 'mobile6':16000, 'mobile7':17000, 'mobile8':18000, 'mobile9':19000}\n",
    "\n",
    "Sample output: mobile4: 9000\n",
    "\n",
    "Note: in case of a tie, whichever item came first should be the output."
   ]
  },
  {
   "cell_type": "code",
   "execution_count": 23,
   "id": "8c22f132-7b58-4192-83ed-8dfbc57070f5",
   "metadata": {},
   "outputs": [
    {
     "name": "stdout",
     "output_type": "stream",
     "text": [
      "mobile2 9000\n"
     ]
    }
   ],
   "source": [
    "input_ = {'mobile1':10000, 'mobile2':9000, 'mobile3':13000, 'mobile4':9000, 'mobile5':15000, 'mobile6':16000, 'mobile7':9000, 'mobile8':18000, 'mobile9':19000}\n",
    "\n",
    "min_key = next(iter(input_)) #Retrieve first key of dict\n",
    "min_value = input_[first_key]\n",
    "for key, value in input_.items():\n",
    "    if value < min_value:\n",
    "        min_value = value\n",
    "        min_key = key\n",
    "        \n",
    "print(min_key, min_value)"
   ]
  },
  {
   "cell_type": "markdown",
   "id": "feff0eda-039e-4c82-9eb0-efadaf2e3b7d",
   "metadata": {},
   "source": [
    "Q5 You will be given a list of repeated elements. You have to find the maximum distance between two same elements. The answer will be zero if there are no repeated elements.\n",
    "\n",
    "----------------------------------------------------------------------\n",
    "Input:\n",
    "A non-empty list of integers.\n",
    "\n",
    "Output:\n",
    "A single integer denoting the maximum distance between two same integers.\n",
    "\n",
    "----------------------------------------------------------------------\n",
    "Sample input:\n",
    "[1, 2, 3, 2, 5, 1, 2, 4, 6, 2, 7, 8, 6]\n",
    "\n",
    "Sample output:\n",
    "8\n",
    "\n",
    "Explanation:\n",
    "Max distance for 1: 5\n",
    "Max distance for 2: 8\n",
    "Max distance for 3: 0\n",
    "Max distance for 4: 0\n",
    "Max distance for 5: 0\n",
    "Max distance for 6: 4\n",
    "Max distance for 7: 0\n",
    "Max distance for 8: 0"
   ]
  },
  {
   "cell_type": "code",
   "execution_count": 33,
   "id": "289f67f4-3847-4173-a17c-10b7f075bf4e",
   "metadata": {},
   "outputs": [
    {
     "name": "stdout",
     "output_type": "stream",
     "text": [
      "8\n"
     ]
    }
   ],
   "source": [
    "distance = 0\n",
    "\n",
    "input_ = [1, 2, 3, 2, 5, 1, 2, 4, 6, 2, 7, 8, 7]\n",
    "\n",
    "##### Approach 1 - Using 2 for loops #####\n",
    "for i in range(len(input_)):\n",
    "    for j in range(len(input_)-1, 0, -1):\n",
    "        if input_[i] == input_[j]:\n",
    "            d = j-i\n",
    "            if d > distance:\n",
    "                distance = d\n",
    "\n",
    "# print(distance)\n",
    "\n",
    "##### Approach 2 - Using enumerate #####\n",
    "dict_ = {}\n",
    "max_disance = 0\n",
    "\n",
    "for index, element in enumerate(input_):\n",
    "    if element not in dict_:\n",
    "        dict_[element] = index\n",
    "    else:\n",
    "        max_disance = max(max_disance, index - dict_[element])\n",
    "\n",
    "print(max_disance)\n",
    "        "
   ]
  },
  {
   "cell_type": "markdown",
   "id": "eab92c1a-5282-4dee-86f2-016202ccbad7",
   "metadata": {},
   "source": [
    "Q6 Your team is going for camping and you are taking a vote to decide what food to pack for dinner.\n",
    "Everyone gets a vote and the food item that gets at least one more than half of the votes wins. None of the items wins if nothing gets at least one more than half votes. Assume that every person gets only one vote.\n",
    "The input will contain a list of food items where each occurrence of an item represents one vote. You should print the winning food item as output. If there is no clear winner, print \"NOTA\".\n",
    "\n",
    "Sample Input:\n",
    "[\"pasta\",\"pasta\",\"pasta\",\"pasta\",\"pasta\",\"paratha\",\"paratha\",\"paratha\"]\n",
    "Sample Output:\n",
    "pasta"
   ]
  },
  {
   "cell_type": "code",
   "execution_count": 54,
   "id": "930e80cb-d753-4574-ab14-33d74f276a14",
   "metadata": {},
   "outputs": [
    {
     "name": "stdout",
     "output_type": "stream",
     "text": [
      "pasta\n"
     ]
    }
   ],
   "source": [
    "input_1 = [\"pasta\",\"pasta\",\"pasta\",\"pasta\",\"pasta\",\"paratha\",\"paratha\",\"paratha\"]\n",
    "input_2 = [\"pasta\",\"pasta\",\"pasta\",\"paratha\",\"paratha\",\"paratha\"]\n",
    "\n",
    "win_vote_count = (len(input_1)//2)+1\n",
    "\n",
    "def item_count(input_):\n",
    "    dict_ = {}\n",
    "    for item in input_:\n",
    "        if item in dict_:\n",
    "            dict_[item] += 1\n",
    "        else:\n",
    "            dict_[item] = 1\n",
    "    return dict_\n",
    "\n",
    "def find_winner(item_dict):\n",
    "    for key, value in item_dict.items():\n",
    "        if value >= win_vote_count:\n",
    "            return key\n",
    "    return \"NOTA\"\n",
    "\n",
    "\n",
    "item_dict = item_count(input_1)\n",
    "print(find_winner(item_dict))"
   ]
  },
  {
   "cell_type": "markdown",
   "id": "a8be0311-46b0-423a-8423-4a664d7d290e",
   "metadata": {},
   "source": [
    "Q7 Consider a nested dictionary as follows:\n",
    "\n",
    "{'Fruit': 1, 'Vegetable': {'Cabbage': 2, 'Cauliflower': 3}, 'Spices': 4}\n",
    "\n",
    "Your task is to flatten a nested dictionary and join the nested keys with the \"_\" character. For the above dictionary, the flattened dictionary would be as follows:\n",
    "\n",
    "{'Fruit': 1, 'Vegetable_Cabbage': 2, 'Vegetable_Cauliflower': 3, 'Spices': 4}\n",
    "\n",
    "\n",
    "\n",
    "The input will have a nested dictionary.\n",
    "\n",
    "The output should have two lists. The first list will have keys and the second list should have values. Both lists should be sorted."
   ]
  },
  {
   "cell_type": "code",
   "execution_count": 58,
   "id": "38f64a17-620a-401a-9bb9-f980e0a7acad",
   "metadata": {},
   "outputs": [
    {
     "name": "stdout",
     "output_type": "stream",
     "text": [
      "['Fruit', 'Spices', 'Vegetable_Cabbage', 'Vegetable_Cauliflower']\n",
      "[1, 2, 3, 4]\n"
     ]
    }
   ],
   "source": [
    "nested_dict = {'Fruit': 1, 'Vegetable': {'Cabbage': 2, 'Cauliflower': 3}, 'Spices': 4}\n",
    "\n",
    "# Flatten the nested dictionary\n",
    "flatten_dict = {}\n",
    "for parent_key, value in nested_dict.items():\n",
    "    if type(value) is dict:\n",
    "        for child_key, child_value in value.items():\n",
    "            flatten_dict[parent_key + \"_\" + child_key] = child_value\n",
    "    else:\n",
    "        flatten_dict[parent_key] = value\n",
    "\n",
    "key_list = list(sorted(flatten_dict.keys()))\n",
    "value_list = list(sorted(flatten_dict.values()))\n",
    "print(key_list)\n",
    "print(value_list)"
   ]
  },
  {
   "cell_type": "markdown",
   "id": "7b1e58e9-9dd4-4fde-8c5e-d2fcbf9aa6b1",
   "metadata": {},
   "source": [
    "Q 8 In the binary search, you kept reducing the search space into half of the previous search space. In this question, can you similarly reduce the search space in one-third of the last space search and write a searching algorithm?\n",
    "\n",
    "----------------------------------------------------------------------\n",
    "Input:\n",
    "A non-empty sorted list of unique integers in line one\n",
    "The integer key to be found in line two\n",
    "\n",
    "Output:\n",
    "Index of the element key if it is present in the list, else -1\n",
    "\n",
    "----------------------------------------------------------------------\n",
    "Sample input:\n",
    "[3, 5, 7, 9, 11, 13, 15, 17, 19, 21, 23, 25, 27]\n",
    "17\n",
    "\n",
    "Sample output:\n",
    "7\n",
    "\n",
    "----------------------------------------------------------------------\n",
    "Sample input:\n",
    "[3, 5, 7, 9, 11, 13, 15, 17, 19, 21, 23, 25, 27]\n",
    "1\n",
    "\n",
    "\n",
    "Sample output:\n",
    "-1"
   ]
  },
  {
   "cell_type": "markdown",
   "id": "fa0c612b-4f29-4ff3-bfb1-78c0d6cf7bd6",
   "metadata": {},
   "source": []
  }
 ],
 "metadata": {
  "kernelspec": {
   "display_name": "Python 3 (ipykernel)",
   "language": "python",
   "name": "python3"
  },
  "language_info": {
   "codemirror_mode": {
    "name": "ipython",
    "version": 3
   },
   "file_extension": ".py",
   "mimetype": "text/x-python",
   "name": "python",
   "nbconvert_exporter": "python",
   "pygments_lexer": "ipython3",
   "version": "3.13.5"
  }
 },
 "nbformat": 4,
 "nbformat_minor": 5
}
